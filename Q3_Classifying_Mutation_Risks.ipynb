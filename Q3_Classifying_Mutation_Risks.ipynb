{
  "metadata": {
    "kernelspec": {
      "name": "python",
      "display_name": "Python (Pyodide)",
      "language": "python"
    },
    "language_info": {
      "codemirror_mode": {
        "name": "python",
        "version": 3
      },
      "file_extension": ".py",
      "mimetype": "text/x-python",
      "name": "python",
      "nbconvert_exporter": "python",
      "pygments_lexer": "ipython3",
      "version": "3.8"
    },
    "colab": {
      "provenance": [],
      "include_colab_link": true
    }
  },
  "nbformat_minor": 5,
  "nbformat": 4,
  "cells": [
    {
      "cell_type": "markdown",
      "metadata": {
        "id": "view-in-github",
        "colab_type": "text"
      },
      "source": [
        "<a href=\"https://colab.research.google.com/github/animesh-11/AI_ML/blob/main/Q3_Classifying_Mutation_Risks.ipynb\" target=\"_parent\"><img src=\"https://colab.research.google.com/assets/colab-badge.svg\" alt=\"Open In Colab\"/></a>"
      ]
    },
    {
      "id": "18b68905-6296-46dc-a3cd-5a147c4ad731",
      "cell_type": "markdown",
      "source": [
        "## Q3 Classifying Mutation Risks\n",
        "\n",
        "### **Question Description**\n",
        "\n",
        "Genetic mutations in human DNA can vary widely in their clinical impact, with some having little to no effect and others significantly increasing the risk of disease. To better understand and manage these risks, each mutation is often assigned a severity score ranging from 0 to 100, based on clinical data, predictive models, and biomedical research.\n",
        "\n",
        "To support effective diagnosis and treatment planning, these mutations need to be categorised into **Low**, **Moderate**, or **High** risk levels. While real clinical practice may rely on fixed thresholds or domain-specific cut-offs (such as ACMG/AMP guidelines), a quartile-based approach is widely used for **risk stratification in early-stage models**, **educational tools**, and **population-level mutation score analysis**.\n",
        "\n",
        "Your goal is to implement a solution that classifies mutations based on their severity scores to aid genetic risk assessment.\n",
        "\n",
        "Your task is to define a function **`count_mutation_risk_groups(scores, label)`** that:\n",
        "\n",
        "- Accepts a list of mutation severity scores and a risk category label to query  \n",
        "- Computes the first quartile ($Q_1$) and third quartile ($Q_3$) of the scores  \n",
        "- Classifies each score into one of the following categories:\n",
        "  - `'Low Risk'` if the score is less than or equal to $Q_1$\n",
        "  - `'Moderate Risk'` if the score is greater than $Q_1$ and less than $Q_3$\n",
        "  - `'High Risk'` if the score is greater than or equal to $Q_3$\n",
        "- Returns the number of scores that fall under the specified risk category\n",
        "\n",
        "> **Note**: Quartiles must be calculated using linear interpolation.\n",
        "\n",
        "### **Input Format**\n",
        "- A tuple whose elements, respectively, are\n",
        "  - `scores` (**list of float**): Mutation severity scores between 0 and 100  \n",
        "  - `label` (**str**): Risk category to query — one of `'Low Risk'`, `'Moderate Risk'`, or `'High Risk'`\n",
        "\n",
        "### **Output Format**\n",
        "-  A value (**int**) representing the number of mutations in the specified risk category\n",
        "\n",
        "### **Constraints**\n",
        "- N/A\n",
        "\n",
        "### **Example Cases**\n",
        "\n",
        "**Example Case 1**\n",
        "```\n",
        "Input  \n",
        "([70, 30, 20, 50, 40, 80, 60, 65, 45, 35, 55, 75], 'Low Risk')  \n",
        "\n",
        "Output  \n",
        "3\n",
        "```\n",
        "\n",
        "**Example Case 2**\n",
        "```\n",
        "Input  \n",
        "([55, 10, 70, 15, 65, 30, 80, 35, 60, 50, 45, 40, 25, 20, 75], 'Moderate Risk')  \n",
        "\n",
        "Output  \n",
        "7\n",
        "```\n",
        "\n",
        "### **Code Stub**\n",
        "```python\n",
        "# Libraries (do not edit)\n",
        "from ast import literal_eval\n",
        "\n",
        "def count_mutation_risk_groups(scores, label):\n",
        "    # Your code here\n",
        "\n",
        "# Input and output handling (do not edit)\n",
        "print(count_mutation_risk_groups(*literal_eval(input())))\n",
        "```"
      ],
      "metadata": {
        "id": "18b68905-6296-46dc-a3cd-5a147c4ad731"
      }
    },
    {
      "cell_type": "code",
      "source": [
        "# Libraries (do not edit)\n",
        "from ast import literal_eval\n",
        "\n",
        "def count_mutation_risk_groups(scores, label):\n",
        "    # Sort the scores\n",
        "    sorted_scores = sorted(scores)\n",
        "    n = len(sorted_scores)\n",
        "\n",
        "    # Function to calculate quartile using linear interpolation\n",
        "    def calculate_quartile(data, percentile):\n",
        "        k = (n - 1) * percentile / 100.0\n",
        "        f = int(k)\n",
        "        c = k - f\n",
        "        if f + 1 < n:\n",
        "            return data[f] + (data[f + 1] - data[f]) * c\n",
        "        else:\n",
        "            return data[f]\n",
        "\n",
        "    # Calculate Q1 and Q3 using linear interpolation\n",
        "    q1 = calculate_quartile(sorted_scores, 25)\n",
        "    q3 = calculate_quartile(sorted_scores, 75)\n",
        "\n",
        "    # Classify scores and count\n",
        "    count = 0\n",
        "    for score in sorted_scores:\n",
        "        if label == 'Low Risk' and score <= q1:\n",
        "            count += 1\n",
        "        elif label == 'Moderate Risk' and q1 < score < q3:\n",
        "            count += 1\n",
        "        elif label == 'High Risk' and score >= q3:\n",
        "            count += 1\n",
        "\n",
        "    return count\n",
        "\n",
        "# Input and output handling (do not edit)\n",
        "print(count_mutation_risk_groups(*literal_eval(input())))"
      ],
      "metadata": {
        "id": "gW9dP7cd_Qm6"
      },
      "id": "gW9dP7cd_Qm6",
      "execution_count": null,
      "outputs": []
    }
  ]
}