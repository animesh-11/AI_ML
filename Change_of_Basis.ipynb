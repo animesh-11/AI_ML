{
  "nbformat": 4,
  "nbformat_minor": 0,
  "metadata": {
    "colab": {
      "provenance": [],
      "authorship_tag": "ABX9TyPMGZypUgf8tjuuXR6JfoSS",
      "include_colab_link": true
    },
    "kernelspec": {
      "name": "python3",
      "display_name": "Python 3"
    },
    "language_info": {
      "name": "python"
    }
  },
  "cells": [
    {
      "cell_type": "markdown",
      "metadata": {
        "id": "view-in-github",
        "colab_type": "text"
      },
      "source": [
        "<a href=\"https://colab.research.google.com/github/animesh-11/AI_ML/blob/main/Change_of_Basis.ipynb\" target=\"_parent\"><img src=\"https://colab.research.google.com/assets/colab-badge.svg\" alt=\"Open In Colab\"/></a>"
      ]
    },
    {
      "cell_type": "markdown",
      "source": [
        "Given a 2D vector in the standard basis and a new basis represented by two vectors b1 and b2, write a Python function to express the vector in the new basis.\n",
        "\n",
        "\n",
        "\n",
        "Use matrix inversion to solve:\n",
        "\n",
        "\n",
        "\n",
        "\n",
        "\n",
        "Where B = [b1   b2] as columns.\n",
        "\n",
        "\n",
        "\n",
        "Return \"Invalid input\" if the basis is not invertible.\n",
        "\n",
        "\n",
        "\n",
        "\n",
        "\n",
        "Input Format:\n",
        "\n",
        "A list containing three lists: Vector v and basis vectors b1, b2 , each as a list of 2 floats.\n",
        "\n",
        "\n",
        "\n",
        "Output Format:\n",
        "\n",
        "A list of two floats (coordinates in new basis), or \"Invalid input\"\n",
        "\n",
        "\n",
        "\n",
        "\n",
        "\n",
        "Sample Input:\n",
        "\n",
        "[[3, 4], [1, 0], [0, 1]]\n",
        "\n",
        "\n",
        "\n",
        "Sample Output:\n",
        "\n",
        "[3.0, 4.0]"
      ],
      "metadata": {
        "id": "_U9EuM0FNxDX"
      }
    },
    {
      "cell_type": "code",
      "execution_count": 1,
      "metadata": {
        "colab": {
          "base_uri": "https://localhost:8080/"
        },
        "id": "i9l16JKdMBQT",
        "outputId": "5b78947d-8f62-434a-fd10-4fefd7860b2d"
      },
      "outputs": [
        {
          "output_type": "stream",
          "name": "stdout",
          "text": [
            "[[3, 4], [1, 0], [0, 1]]\n",
            "[3.0, 4.0]\n"
          ]
        }
      ],
      "source": [
        "import math, ast\n",
        "\n",
        "data = ast.literal_eval(input())\n",
        "v, b1, b2 = data\n",
        "\n",
        "# Input has been taken for you and the v, b1, b2 vectors have been extracted\n",
        "\n",
        "def change_basis(v, b1, b2):\n",
        "    \"\"\"\n",
        "    Expresses a 2D vector in a new basis using manual matrix inversion.\n",
        "\n",
        "    Args:\n",
        "        v: A list of 2 floats representing the vector in the standard basis.\n",
        "        b1: A list of 2 floats representing the first basis vector.\n",
        "        b2: A list of 2 floats representing the second basis vector.\n",
        "\n",
        "    Returns:\n",
        "        A list of two floats (coordinates in new basis), or \"Invalid input\"\n",
        "        if the basis is not invertible.\n",
        "    \"\"\"\n",
        "    # Form the basis matrix B = [b1 | b2]\n",
        "    # B = [[b1[0], b2[0]],\n",
        "    #      [b1[1], b2[1]]]\n",
        "\n",
        "    det_B = b1[0] * b2[1] - b1[1] * b2[0]\n",
        "\n",
        "    if det_B == 0:\n",
        "        return \"Invalid input\"\n",
        "\n",
        "    # Calculate the inverse of B\n",
        "    # B_inv = 1/det(B) * [[b2[1], -b2[0]],\n",
        "    #                    [-b1[1], b1[0]]]\n",
        "    inv_det_B = 1 / det_B\n",
        "    B_inv = [[b2[1] * inv_det_B, -b2[0] * inv_det_B],\n",
        "             [-b1[1] * inv_det_B, b1[0] * inv_det_B]]\n",
        "\n",
        "    # Calculate the coordinates in the new basis: coords = B_inv * v\n",
        "    # coords[0] = B_inv[0][0] * v[0] + B_inv[0][1] * v[1]\n",
        "    # coords[1] = B_inv[1][0] * v[0] + B_inv[1][1] * v[1]\n",
        "    coords = [\n",
        "        B_inv[0][0] * v[0] + B_inv[0][1] * v[1],\n",
        "        B_inv[1][0] * v[0] + B_inv[1][1] * v[1]\n",
        "    ]\n",
        "\n",
        "    return coords\n",
        "\n",
        "# Calculate and print the result\n",
        "result = change_basis(v, b1, b2)\n",
        "print(result)"
      ]
    },
    {
      "cell_type": "markdown",
      "source": [
        "Write a Python function find_eigenvalues(matrix) that takes a 2x2 matrix (as a list of lists) and returns the eigenvalues of the matrix.\n",
        "\n",
        "\n",
        "\n",
        "You may assume the eigenvalues are real and distinct.\n",
        "\n",
        "\n",
        "\n",
        "\n",
        "\n",
        "Input Format\n",
        "\n",
        "Matrix: A 2x2 matrix represented as a list of lists.\n",
        "Example: [[a, b], [c, d]]\n",
        "\n",
        "\n",
        "Output Format\n",
        "\n",
        "A list containing the two real eigenvalues (rounded to 2 decimal places if needed).\n",
        "\n",
        "\n",
        "\n",
        "\n",
        "Sample Input\n",
        "\n",
        "[[4, 2], [1, 3]]\n",
        "\n",
        "\n",
        "\n",
        "Sample Output\n",
        "\n",
        "[5.0, 2.0]"
      ],
      "metadata": {
        "id": "QSgyDd8qPbRJ"
      }
    },
    {
      "cell_type": "code",
      "source": [
        "import math\n",
        "\n",
        "def find_eigenvalues(matrix):\n",
        "    \"\"\"\n",
        "    Calculates the eigenvalues of a 2x2 matrix.\n",
        "\n",
        "    Args:\n",
        "        matrix: A 2x2 matrix represented as a list of lists [[a, b], [c, d]].\n",
        "\n",
        "    Returns:\n",
        "        A list containing the two real eigenvalues (rounded to 2 decimal places).\n",
        "    \"\"\"\n",
        "    a = matrix[0][0]\n",
        "    b = matrix[0][1]\n",
        "    c = matrix[1][0]\n",
        "    d = matrix[1][1]\n",
        "\n",
        "    # The characteristic equation for a 2x2 matrix is:\n",
        "    # lambda^2 - (a+d)lambda + (ad - bc) = 0\n",
        "    # where (a+d) is the trace and (ad - bc) is the determinant.\n",
        "\n",
        "    trace = a + d\n",
        "    determinant = a * d - b * c\n",
        "\n",
        "    # The eigenvalues are the roots of the characteristic equation, which can be found\n",
        "    # using the quadratic formula: lambda = [-trace ± sqrt(trace^2 - 4*determinant)] / 2\n",
        "\n",
        "    discriminant = trace**2 - 4 * determinant\n",
        "\n",
        "    # Assuming real and distinct eigenvalues, the discriminant will be positive.\n",
        "    lambda1 = (trace + math.sqrt(discriminant)) / 2\n",
        "    lambda2 = (trace - math.sqrt(discriminant)) / 2\n",
        "\n",
        "    return [round(lambda1, 2), round(lambda2, 2)]\n",
        "\n",
        "# Sample Input:\n",
        "sample_matrix = [[4, 2], [1, 3]]\n",
        "eigenvalues = find_eigenvalues(sample_matrix)\n",
        "print(f\"Sample Input: {sample_matrix}\")\n",
        "print(f\"Sample Output: {eigenvalues}\")\n",
        "\n",
        "# Another example\n",
        "another_matrix = [[2, 1], [1, 2]]\n",
        "another_eigenvalues = find_eigenvalues(another_matrix)\n",
        "print(f\"\\nInput: {another_matrix}\")\n",
        "print(f\"Output: {another_eigenvalues}\")"
      ],
      "metadata": {
        "colab": {
          "base_uri": "https://localhost:8080/"
        },
        "id": "n9gI2JqnPqUH",
        "outputId": "c6778589-f180-4c83-90a7-da2674788709"
      },
      "execution_count": 2,
      "outputs": [
        {
          "output_type": "stream",
          "name": "stdout",
          "text": [
            "Sample Input: [[4, 2], [1, 3]]\n",
            "Sample Output: [5.0, 2.0]\n",
            "\n",
            "Input: [[2, 1], [1, 2]]\n",
            "Output: [3.0, 1.0]\n"
          ]
        }
      ]
    },
    {
      "cell_type": "code",
      "source": [
        "# Import necessary modules: math for calculations and ast for safe input evaluation\n",
        "import math, ast\n",
        "\n",
        "# Input has been taken for you\n",
        "matrix = ast.literal_eval(input())\n",
        "\n",
        "# Define a function to find the eigenvalues of a 2x2 matrix\n",
        "def find_eigenvalues(matrix):\n",
        "\n",
        "    # Write your code below\n",
        "    a = matrix[0][0]\n",
        "    b = matrix[0][1]\n",
        "    c = matrix[1][0]\n",
        "    d = matrix[1][1]\n",
        "\n",
        "    # The characteristic equation for a 2x2 matrix is:\n",
        "    # lambda^2 - (a+d)lambda + (ad - bc) = 0\n",
        "    # where (a+d) is the trace and (ad - bc) is the determinant.\n",
        "\n",
        "    trace = a + d\n",
        "    determinant = a * d - b * c\n",
        "\n",
        "    # The eigenvalues are the roots of the characteristic equation, which can be found\n",
        "    # using the quadratic formula: lambda = [-trace ± sqrt(trace^2 - 4*determinant)] / 2\n",
        "\n",
        "    discriminant = trace**2 - 4 * determinant\n",
        "\n",
        "    # Assuming real and distinct eigenvalues, the discriminant will be positive.\n",
        "    lambda1 = (trace + math.sqrt(discriminant)) / 2\n",
        "    lambda2 = (trace - math.sqrt(discriminant)) / 2\n",
        "\n",
        "    return [round(lambda1, 2), round(lambda2, 2)]\n",
        "\n",
        "print(find_eigenvalues(matrix))\n"
      ],
      "metadata": {
        "colab": {
          "base_uri": "https://localhost:8080/"
        },
        "id": "_cmkXIOTQN8i",
        "outputId": "f94267b2-dee2-4a18-ee28-9d1b16ea4df1"
      },
      "execution_count": 4,
      "outputs": [
        {
          "output_type": "stream",
          "name": "stdout",
          "text": [
            "[[4, 2], [1, 3]]\n",
            "[5.0, 2.0]\n"
          ]
        }
      ]
    },
    {
      "cell_type": "code",
      "source": [],
      "metadata": {
        "id": "WIdszXapQtmP"
      },
      "execution_count": null,
      "outputs": []
    }
  ]
}