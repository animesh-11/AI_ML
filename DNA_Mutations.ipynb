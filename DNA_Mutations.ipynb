{
  "nbformat": 4,
  "nbformat_minor": 0,
  "metadata": {
    "colab": {
      "provenance": [],
      "authorship_tag": "ABX9TyNPAO/6/Jn2x+G/uSxrIadK",
      "include_colab_link": true
    },
    "kernelspec": {
      "name": "python3",
      "display_name": "Python 3"
    },
    "language_info": {
      "name": "python"
    }
  },
  "cells": [
    {
      "cell_type": "markdown",
      "metadata": {
        "id": "view-in-github",
        "colab_type": "text"
      },
      "source": [
        "<a href=\"https://colab.research.google.com/github/animesh-11/AI_ML/blob/main/DNA_Mutations.ipynb\" target=\"_parent\"><img src=\"https://colab.research.google.com/assets/colab-badge.svg\" alt=\"Open In Colab\"/></a>"
      ]
    },
    {
      "cell_type": "code",
      "execution_count": null,
      "metadata": {
        "colab": {
          "base_uri": "https://localhost:8080/"
        },
        "id": "v5W90VMqCp45",
        "outputId": "f816ad62-b960-471b-ee48-555c3c6ade0a"
      },
      "outputs": [
        {
          "output_type": "stream",
          "name": "stdout",
          "text": [
            "Example Case 1:\n",
            "Input: ('AT', 2, ['AA', 'TT'])\n",
            "Output: ['AT', 'TA']\n",
            "\n",
            "Example Case 2:\n",
            "Input: ('AGC', 2, ['GC'])\n",
            "Output: ['AA', 'AC', 'AG', 'CA', 'CC', 'CG', 'GA', 'GG']\n",
            "\n"
          ]
        }
      ],
      "source": [
        "def filter_dna_mutations(bases, length, harmful_patterns):\n",
        "    \"\"\"\n",
        "    Generates all possible DNA sequences of a given length, filters out\n",
        "    harmful patterns, and returns the remaining sequences in sorted order.\n",
        "\n",
        "    Args:\n",
        "        bases (str): A string of unique uppercase letters representing the bases.\n",
        "        length (int): The target length of each sequence.\n",
        "        harmful_patterns (list of str): A list of harmful DNA configurations to exclude.\n",
        "\n",
        "    Returns:\n",
        "        list of str: A list of valid, non-harmful DNA sequences, sorted\n",
        "                     in lexicographic order.\n",
        "    \"\"\"\n",
        "\n",
        "    # Step 1: Generate all possible sequences of the given length\n",
        "\n",
        "    # We start with a list containing a single empty string. This allows us to\n",
        "    # build the sequences iteratively in the loop.\n",
        "    sequences = ['']\n",
        "\n",
        "    # We loop 'length' number of times to build sequences of the correct length.\n",
        "    for _ in range(length):\n",
        "        # This list will hold the newly generated sequences for the current length.\n",
        "        next_sequences = []\n",
        "\n",
        "        # We loop through each sequence we have so far.\n",
        "        for seq in sequences:\n",
        "            # And for each base, we append it to the current sequence.\n",
        "            for base in bases:\n",
        "                next_sequences.append(seq + base)\n",
        "\n",
        "        # We update our list of sequences for the next iteration.\n",
        "        sequences = next_sequences\n",
        "\n",
        "    # Step 2: Filter out any sequences that match the harmful patterns.\n",
        "\n",
        "    # To make the filtering process faster, we convert the list of harmful patterns\n",
        "    # into a set for efficient lookup.\n",
        "    harmful_set = set(harmful_patterns)\n",
        "\n",
        "    # We create a new list to store the sequences that are NOT harmful.\n",
        "    valid_sequences = []\n",
        "\n",
        "    # We iterate through all the generated sequences.\n",
        "    for seq in sequences:\n",
        "        # If a sequence is not in our set of harmful patterns, it's valid.\n",
        "        if seq not in harmful_set:\n",
        "            valid_sequences.append(seq)\n",
        "\n",
        "    # Step 3: Sort the remaining sequences in lexicographic order.\n",
        "    valid_sequences.sort()\n",
        "\n",
        "    return valid_sequences\n",
        "\n",
        "# Example Cases\n",
        "print(\"Example Case 1:\")\n",
        "bases_1 = 'AT'\n",
        "length_1 = 2\n",
        "harmful_patterns_1 = ['AA', 'TT']\n",
        "result_1 = filter_dna_mutations(bases_1, length_1, harmful_patterns_1)\n",
        "print(f\"Input: ('{bases_1}', {length_1}, {harmful_patterns_1})\")\n",
        "print(f\"Output: {result_1}\\n\")\n",
        "\n",
        "print(\"Example Case 2:\")\n",
        "bases_2 = 'AGC'\n",
        "length_2 = 2\n",
        "harmful_patterns_2 = ['GC']\n",
        "result_2 = filter_dna_mutations(bases_2, length_2, harmful_patterns_2)\n",
        "print(f\"Input: ('{bases_2}', {length_2}, {harmful_patterns_2})\")\n",
        "print(f\"Output: {result_2}\\n\")\n"
      ]
    },
    {
      "cell_type": "code",
      "source": [],
      "metadata": {
        "id": "GYnTXv7-CrVk"
      },
      "execution_count": null,
      "outputs": []
    },
    {
      "cell_type": "code",
      "metadata": {
        "colab": {
          "base_uri": "https://localhost:8080/"
        },
        "id": "96e1d6de",
        "outputId": "34bfa51d-257a-4409-c779-02aee41c265e"
      },
      "source": [
        "def filter_dna_mutations_verbose(bases, length, harmful_patterns):\n",
        "    \"\"\"\n",
        "    Generates all possible DNA sequences of a given length, filters out\n",
        "    harmful patterns, and returns the remaining sequences in sorted order.\n",
        "    Includes print statements to show the process step-by-step.\n",
        "\n",
        "    Args:\n",
        "        bases (str): A string of unique uppercase letters representing the bases.\n",
        "        length (int): The target length of each sequence.\n",
        "        harmful_patterns (list of str): A list of harmful DNA configurations to exclude.\n",
        "\n",
        "    Returns:\n",
        "        list of str: A list of valid, non-harmful DNA sequences, sorted\n",
        "                     in lexicographic order.\n",
        "    \"\"\"\n",
        "\n",
        "    print(f\"Starting sequence generation with bases: {bases} and length: {length}\")\n",
        "    # Step 1: Generate all possible sequences of the given length\n",
        "    sequences = ['']\n",
        "    print(f\"Initial sequences: {sequences}\")\n",
        "\n",
        "    for i in range(length):\n",
        "        print(f\"\\nIteration {i+1} (building sequences of length {i+1})\")\n",
        "        next_sequences = []\n",
        "        print(f\"Current sequences: {sequences}\")\n",
        "\n",
        "        for seq in sequences:\n",
        "            for base in bases:\n",
        "                new_seq = seq + base\n",
        "                next_sequences.append(new_seq)\n",
        "                print(f\"  Appending '{new_seq}' (from '{seq}' + '{base}')\")\n",
        "\n",
        "        sequences = next_sequences\n",
        "        print(f\"Sequences after iteration {i+1}: {sequences}\")\n",
        "\n",
        "    print(\"\\nStep 2: Filtering harmful patterns\")\n",
        "    harmful_set = set(harmful_patterns)\n",
        "    print(f\"Harmful patterns set: {harmful_set}\")\n",
        "\n",
        "    valid_sequences = []\n",
        "    print(f\"All generated sequences: {sequences}\")\n",
        "    for seq in sequences:\n",
        "        if seq not in harmful_set:\n",
        "            valid_sequences.append(seq)\n",
        "            print(f\"  '{seq}' is NOT harmful, adding to valid sequences.\")\n",
        "        else:\n",
        "            print(f\"  '{seq}' IS harmful, skipping.\")\n",
        "\n",
        "    print(\"\\nStep 3: Sorting valid sequences\")\n",
        "    print(f\"Valid sequences before sorting: {valid_sequences}\")\n",
        "    valid_sequences.sort()\n",
        "    print(f\"Valid sequences after sorting: {valid_sequences}\")\n",
        "\n",
        "\n",
        "    return valid_sequences\n",
        "\n",
        "# Run with the first example case\n",
        "print(\"Running verbose explanation with Example Case 1:\")\n",
        "bases_1 = 'AT'\n",
        "length_1 = 2\n",
        "harmful_patterns_1 = ['AA', 'TT']\n",
        "result_1_verbose = filter_dna_mutations_verbose(bases_1, length_1, harmful_patterns_1)\n",
        "print(f\"\\nFinal Output for Example Case 1: {result_1_verbose}\")"
      ],
      "execution_count": null,
      "outputs": [
        {
          "output_type": "stream",
          "name": "stdout",
          "text": [
            "Running verbose explanation with Example Case 1:\n",
            "Starting sequence generation with bases: AT and length: 2\n",
            "Initial sequences: ['']\n",
            "\n",
            "Iteration 1 (building sequences of length 1)\n",
            "Current sequences: ['']\n",
            "  Appending 'A' (from '' + 'A')\n",
            "  Appending 'T' (from '' + 'T')\n",
            "Sequences after iteration 1: ['A', 'T']\n",
            "\n",
            "Iteration 2 (building sequences of length 2)\n",
            "Current sequences: ['A', 'T']\n",
            "  Appending 'AA' (from 'A' + 'A')\n",
            "  Appending 'AT' (from 'A' + 'T')\n",
            "  Appending 'TA' (from 'T' + 'A')\n",
            "  Appending 'TT' (from 'T' + 'T')\n",
            "Sequences after iteration 2: ['AA', 'AT', 'TA', 'TT']\n",
            "\n",
            "Step 2: Filtering harmful patterns\n",
            "Harmful patterns set: {'AA', 'TT'}\n",
            "All generated sequences: ['AA', 'AT', 'TA', 'TT']\n",
            "  'AA' IS harmful, skipping.\n",
            "  'AT' is NOT harmful, adding to valid sequences.\n",
            "  'TA' is NOT harmful, adding to valid sequences.\n",
            "  'TT' IS harmful, skipping.\n",
            "\n",
            "Step 3: Sorting valid sequences\n",
            "Valid sequences before sorting: ['AT', 'TA']\n",
            "Valid sequences after sorting: ['AT', 'TA']\n",
            "\n",
            "Final Output for Example Case 1: ['AT', 'TA']\n"
          ]
        }
      ]
    },
    {
      "cell_type": "code",
      "source": [],
      "metadata": {
        "id": "OK6MlotbFfKC"
      },
      "execution_count": null,
      "outputs": []
    }
  ]
}