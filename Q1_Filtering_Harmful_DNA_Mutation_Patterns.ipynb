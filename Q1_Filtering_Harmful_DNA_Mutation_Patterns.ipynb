{
  "metadata": {
    "kernelspec": {
      "name": "python",
      "display_name": "Python (Pyodide)",
      "language": "python"
    },
    "language_info": {
      "codemirror_mode": {
        "name": "python",
        "version": 3
      },
      "file_extension": ".py",
      "mimetype": "text/x-python",
      "name": "python",
      "nbconvert_exporter": "python",
      "pygments_lexer": "ipython3",
      "version": "3.8"
    },
    "colab": {
      "provenance": [],
      "include_colab_link": true
    }
  },
  "nbformat_minor": 5,
  "nbformat": 4,
  "cells": [
    {
      "cell_type": "markdown",
      "metadata": {
        "id": "view-in-github",
        "colab_type": "text"
      },
      "source": [
        "<a href=\"https://colab.research.google.com/github/animesh-11/AI_ML/blob/main/Q1_Filtering_Harmful_DNA_Mutation_Patterns.ipynb\" target=\"_parent\"><img src=\"https://colab.research.google.com/assets/colab-badge.svg\" alt=\"Open In Colab\"/></a>"
      ]
    },
    {
      "id": "6229b468-36e8-4b3c-a2b1-1ce643e44a09",
      "cell_type": "markdown",
      "source": [
        "## Q1 Filtering Harmful DNA Mutation Patterns\n",
        "\n",
        "### **Question Description**\n",
        "\n",
        "A DNA strand segment typically consists of four unique bases: Adenine (**A**), Thymine (**T**), Guanine (**G**), and Cytosine (**C**). The lab wants to simulate all possible orders in which these bases could mutate over time to identify potentially harmful configurations. Each mutation model considers every possible sequence of a specific length, allowing repeated bases, and the order of bases is important.\n",
        "\n",
        "To maintain biological safety protocols, the lab has a predefined list of harmful configurations (e.g., known oncogenic or disease-causing patterns). Your task is to simulate all possible encodings and **filter out any sequences that match the harmful ones**.\n",
        "\n",
        "Write a function **`filter_dna_mutations(bases, length, harmful_patterns)`** that:\n",
        "- Generates all possible sequences of a given length using the input bases\n",
        "- Filters out sequences that match the known harmful patterns\n",
        "- Returns the remaining sequences, sorted in **lexicographic order**\n",
        "\n",
        "### **Input Format**\n",
        "- A tuple whose elements, respectively, are\n",
        "  - `bases` (**str**): Unique uppercase letters representing base options  \n",
        "  - `length` (**int**): Target length of each sequence  \n",
        "  - `harmful_patterns` (**list of str**): Harmful DNA configurations to be excluded  \n",
        "\n",
        "### **Output Format**\n",
        "- A list (**list of str**) of valid, non-harmful DNA sequences\n",
        "- The list must be sorted in **lexicographic order**\n",
        "\n",
        "\n",
        "### **Constraints**\n",
        "- 1 ≤ **`length`** ≤ 4\n",
        "- 1 ≤ len(**`bases`**) ≤ 4\n",
        "- All characters in **`bases`** are distinct and in uppercase\n",
        "- All harmful patterns are strings of the same length as the sequences\n",
        "- The number of valid sequences will not exceed 10,000\n",
        "\n",
        "### **Example Cases**\n",
        "\n",
        "**Example Case 1**\n",
        "\n",
        "```\n",
        "Input\n",
        "('AT', 2, ['AA', 'TT'])\n",
        "\n",
        "Output\n",
        "['AT', 'TA']\n",
        "```\n",
        "\n",
        "**Example Case 2**\n",
        "\n",
        "```\n",
        "Input\n",
        "('AGC', 2, ['GC'])\n",
        "\n",
        "Output\n",
        "['AA', 'AC', 'AG', 'CA', 'CC', 'CG', 'GA', 'GG']\n",
        "```\n",
        "\n",
        "### **Code Stub**\n",
        "```python\n",
        "# Libraries (do not edit)\n",
        "from ast import literal_eval\n",
        "\n",
        "def filter_dna_mutations(bases, length, harmful_patterns):\n",
        "    # Your code here\n",
        "\n",
        "# Input and output processing (do not edit)\n",
        "print(filter_dna_mutations(*literal_eval(input())))\n",
        "```"
      ],
      "metadata": {
        "id": "6229b468-36e8-4b3c-a2b1-1ce643e44a09"
      }
    },
    {
      "cell_type": "code",
      "source": [
        "# Libraries (do not edit)\n",
        "from ast import literal_eval\n",
        "\n",
        "def filter_dna_mutations(bases, length, harmful_patterns):\n",
        "    # Your code here\n",
        "    sequences = ['']\n",
        "\n",
        "    for _ in range(length):\n",
        "\n",
        "        next_sequences = []\n",
        "\n",
        "        for seq in sequences:\n",
        "            for base in bases:\n",
        "                next_sequences.append(seq + base)\n",
        "\n",
        "        sequences = next_sequences\n",
        "\n",
        "    harmful_set = set(harmful_patterns)\n",
        "\n",
        "    valid_sequences = []\n",
        "\n",
        "    for seq in sequences:\n",
        "        if seq not in harmful_set:\n",
        "            valid_sequences.append(seq)\n",
        "\n",
        "    valid_sequences.sort()\n",
        "\n",
        "    return valid_sequences\n",
        "\n",
        "# Input and output processing (do not edit)\n",
        "print(filter_dna_mutations(*literal_eval(input())))"
      ],
      "metadata": {
        "colab": {
          "base_uri": "https://localhost:8080/"
        },
        "id": "3BVp639gGhQL",
        "outputId": "df07a661-ac41-4dd1-9796-b257c8aa0a30"
      },
      "id": "3BVp639gGhQL",
      "execution_count": null,
      "outputs": [
        {
          "output_type": "stream",
          "name": "stdout",
          "text": [
            "('AGC', 2, ['GC'])\n",
            "['AA', 'AC', 'AG', 'CA', 'CC', 'CG', 'GA', 'GG']\n"
          ]
        }
      ]
    },
    {
      "cell_type": "code",
      "source": [],
      "metadata": {
        "id": "ly2nHd8WGbBa"
      },
      "id": "ly2nHd8WGbBa",
      "execution_count": null,
      "outputs": []
    }
  ]
}