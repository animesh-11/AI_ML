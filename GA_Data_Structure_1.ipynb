{
  "nbformat": 4,
  "nbformat_minor": 0,
  "metadata": {
    "colab": {
      "provenance": [],
      "authorship_tag": "ABX9TyNh5SmL5Kw7qCwYElc/bVh3",
      "include_colab_link": true
    },
    "kernelspec": {
      "name": "python3",
      "display_name": "Python 3"
    },
    "language_info": {
      "name": "python"
    }
  },
  "cells": [
    {
      "cell_type": "markdown",
      "metadata": {
        "id": "view-in-github",
        "colab_type": "text"
      },
      "source": [
        "<a href=\"https://colab.research.google.com/github/animesh-11/AI_ML/blob/main/GA_Data_Structure_1.ipynb\" target=\"_parent\"><img src=\"https://colab.research.google.com/assets/colab-badge.svg\" alt=\"Open In Colab\"/></a>"
      ]
    },
    {
      "cell_type": "markdown",
      "source": [
        "Write a program that takes a string as input and counts the number of vowels and consonants in it. Vowels include 'a', 'e', 'i', 'o', 'u', 'A', 'E', 'I', 'O', 'U'. Consonants are all other alphabetic letters (i.e., all letters except vowels). All non-alphabetic characters (e.g., spaces, digits, punctuation) in the input string should be disregarded. Input Format: A string 's' consists of any valid ASCII character. Output Format: Count of vowels in the first line. Count of consonants in the second line."
      ],
      "metadata": {
        "id": "Jtg1GYE6lABj"
      }
    },
    {
      "cell_type": "code",
      "execution_count": null,
      "metadata": {
        "colab": {
          "base_uri": "https://localhost:8080/"
        },
        "id": "rK69ksyqkbsH",
        "outputId": "6d693b15-6600-4a72-8aec-1fc95eaf1b91"
      },
      "outputs": [
        {
          "output_type": "stream",
          "name": "stdout",
          "text": [
            "Animesh Kumar\n",
            "5\n",
            "7\n"
          ]
        }
      ],
      "source": [
        "def count_vowels_consonants(s):\n",
        "    \"\"\"Counts the number of vowels and consonants in a string.\n",
        "\n",
        "    Args:\n",
        "        s: The input string.\n",
        "\n",
        "    Returns:\n",
        "        A tuple containing the count of vowels and consonants.\n",
        "    \"\"\"\n",
        "    vowels = \"aeiouAEIOU\"\n",
        "    vowel_count = 0\n",
        "    consonant_count = 0\n",
        "\n",
        "    for char in s:\n",
        "        if char.isalpha():\n",
        "            if char in vowels:\n",
        "                vowel_count += 1\n",
        "            else:\n",
        "                consonant_count += 1\n",
        "\n",
        "    return vowel_count, consonant_count\n",
        "\n",
        "# Get input string\n",
        "input_string = input()\n",
        "\n",
        "# Count vowels and consonants\n",
        "vowel_count, consonant_count = count_vowels_consonants(input_string)\n",
        "\n",
        "# Print the counts\n",
        "print(vowel_count)\n",
        "print(consonant_count)"
      ]
    },
    {
      "cell_type": "markdown",
      "source": [
        "Write a program that accepts three sorted lists of integers as input and returns a list containing the elements that are common to all three lists.\n",
        "\n",
        "\n",
        "\n",
        "The program should be implemented efficiently, taking advantage of the fact that the input lists are already sorted. Avoid using unnecessary nested loops, and do not use sets or any external libraries that are not part of the standard Python curriculum up to this point.\n",
        "\n",
        "\n",
        "\n",
        "If there are no common elements among the three lists, the program should output \"None\" (without quotes).\n",
        "\n",
        "\n",
        "\n",
        "Input Format:\n",
        "\n",
        "The program accepts three sorted lists as input, one list per line.\n",
        "\n",
        "\n",
        "Output Format:\n",
        "\n",
        "If common elements exist, output them as space-separated integers in a single line.\n",
        "If no common elements exist, output \"None\" (without quotes).\n",
        "\n",
        "\n",
        "Constraints:\n",
        "\n",
        "Length of each list ≤ 10⁴.\n",
        "Each list is sorted in non-decreasing order.\n",
        "Each number is in the range: −10⁵ ≤ number ≤ 10⁵.\n",
        "Lists may contain duplicates\n",
        "No Nested loops\n",
        "\n",
        "\n",
        "\n",
        "\n",
        "Sample Input:\n",
        "\n",
        "[1, 5, 10, 20, 40, 80]\n",
        "\n",
        "[6, 7, 20, 80, 100]  \n",
        "\n",
        "[3, 4, 15, 20, 30, 70, 80, 120]\n",
        "\n",
        "\n",
        "\n",
        "Sample Output:\n",
        "\n",
        "20 80"
      ],
      "metadata": {
        "id": "BeUXJ9DYl-9-"
      }
    },
    {
      "cell_type": "code",
      "source": [
        "def common_elements_in_three_lists(list1, list2, list3):\n",
        "    \"\"\"Finds common elements in three sorted lists.\n",
        "\n",
        "    Args:\n",
        "        list1: The first sorted list.\n",
        "        list2: The second sorted list.\n",
        "        list3: The third sorted list.\n",
        "\n",
        "    Returns:\n",
        "        A list containing the common elements, or None if there are none.\n",
        "    \"\"\"\n",
        "    i, j, k = 0, 0, 0\n",
        "    common_elements = []\n",
        "\n",
        "    while i < len(list1) and j < len(list2) and k < len(list3):\n",
        "        if list1[i] == list2[j] == list3[k]:\n",
        "            common_elements.append(list1[i])\n",
        "            i += 1\n",
        "            j += 1\n",
        "            k += 1\n",
        "        elif list1[i] < list2[j]:\n",
        "            i += 1\n",
        "        elif list2[j] < list3[k]:\n",
        "            j += 1\n",
        "        else:\n",
        "            k += 1\n",
        "\n",
        "    return common_elements if common_elements else None\n",
        "\n",
        "# Get input lists\n",
        "list1 = eval(input())\n",
        "list2 = eval(input())\n",
        "list3 = eval(input())\n",
        "\n",
        "# Find common elements\n",
        "result = common_elements_in_three_lists(list1, list2, list3)\n",
        "\n",
        "# Print the result\n",
        "if result:\n",
        "    print(*result)\n",
        "else:\n",
        "    print(\"None\")"
      ],
      "metadata": {
        "colab": {
          "base_uri": "https://localhost:8080/"
        },
        "id": "HgpAXRnWmARw",
        "outputId": "1ff0c78a-804e-4093-9ddd-bfe9729bafff"
      },
      "execution_count": null,
      "outputs": [
        {
          "output_type": "stream",
          "name": "stdout",
          "text": [
            "[1, 5, 10, 20, 40, 80]\n",
            "[6, 7, 20, 80, 100]\n",
            "[3, 4, 15, 20, 30, 70, 80, 120]\n",
            "20 80\n"
          ]
        }
      ]
    },
    {
      "cell_type": "code",
      "metadata": {
        "colab": {
          "base_uri": "https://localhost:8080/"
        },
        "id": "62a76b16",
        "outputId": "cd68d7e3-6930-44ed-9721-374355f1fdc6"
      },
      "source": [
        "# Test cases for common_elements_in_three_lists\n",
        "\n",
        "# Case 1: Empty lists\n",
        "list1_empty = []\n",
        "list2_empty = []\n",
        "list3_empty = []\n",
        "print(f\"Case 1 (Empty lists): {common_elements_in_three_lists(list1_empty, list2_empty, list3_empty)}\")\n",
        "\n",
        "# Case 2: No common elements\n",
        "list1_no_common = [1, 2, 3]\n",
        "list2_no_common = [4, 5, 6]\n",
        "list3_no_common = [7, 8, 9]\n",
        "print(f\"Case 2 (No common elements): {common_elements_in_three_lists(list1_no_common, list2_no_common, list3_no_common)}\")\n",
        "\n",
        "# Case 3: One common element\n",
        "list1_one_common = [1, 5, 10]\n",
        "list2_one_common = [5, 7, 9]\n",
        "list3_one_common = [2, 5, 11]\n",
        "print(f\"Case 3 (One common element): {common_elements_in_three_lists(list1_one_common, list2_one_common, list3_one_common)}\")\n",
        "\n",
        "# Case 4: Multiple common elements\n",
        "list1_multiple_common = [1, 5, 10, 20, 40, 80]\n",
        "list2_multiple_common = [6, 7, 20, 80, 100]\n",
        "list3_multiple_common = [3, 4, 15, 20, 30, 70, 80, 120]\n",
        "print(f\"Case 4 (Multiple common elements - Sample Input): {common_elements_in_three_lists(list1_multiple_common, list2_multiple_common, list3_multiple_common)}\")\n",
        "\n",
        "# Case 5: Lists with duplicate common elements\n",
        "list1_duplicates = [1, 2, 2, 3, 3, 3, 4]\n",
        "list2_duplicates = [2, 2, 3, 3, 4, 5]\n",
        "list3_duplicates = [2, 3, 3, 4, 6, 7]\n",
        "print(f\"Case 5 (Lists with duplicate common elements): {common_elements_in_three_lists(list1_duplicates, list2_duplicates, list3_duplicates)}\")\n",
        "\n",
        "# Case 6: Common element is at the beginning\n",
        "list1_beginning = [1, 5, 10]\n",
        "list2_beginning = [1, 7, 9]\n",
        "list3_beginning = [1, 2, 11]\n",
        "print(f\"Case 6 (Common element at the beginning): {common_elements_in_three_lists(list1_beginning, list2_beginning, list3_beginning)}\")\n",
        "\n",
        "# Case 7: Common element is at the end\n",
        "list1_end = [1, 5, 10]\n",
        "list2_end = [6, 7, 10]\n",
        "list3_end = [2, 9, 10]\n",
        "print(f\"Case 7 (Common element at the end): {common_elements_in_three_lists(list1_end, list2_end, list3_end)}\")\n",
        "\n",
        "# Case 8: Lists with negative numbers\n",
        "list1_negative = [-5, -2, 0, 3, 5]\n",
        "list2_negative = [-2, 0, 1, 4, 6]\n",
        "list3_negative = [-2, 0, 2, 5, 7]\n",
        "print(f\"Case 8 (Lists with negative numbers): {common_elements_in_three_lists(list1_negative, list2_negative, list3_negative)}\")\n",
        "\n",
        "# Case 9: Lists with varying lengths\n",
        "list1_short = [1, 2]\n",
        "list2_medium = [1, 2, 3, 4]\n",
        "list3_long = [1, 2, 5, 6, 7, 8]\n",
        "print(f\"Case 9 (Lists with varying lengths): {common_elements_in_three_lists(list1_short, list2_medium, list3_long)}\")"
      ],
      "execution_count": null,
      "outputs": [
        {
          "output_type": "stream",
          "name": "stdout",
          "text": [
            "Case 1 (Empty lists): None\n",
            "Case 2 (No common elements): None\n",
            "Case 3 (One common element): [5]\n",
            "Case 4 (Multiple common elements - Sample Input): [20, 80]\n",
            "Case 5 (Lists with duplicate common elements): [2, 3, 3, 4]\n",
            "Case 6 (Common element at the beginning): [1]\n",
            "Case 7 (Common element at the end): [10]\n",
            "Case 8 (Lists with negative numbers): [-2, 0]\n",
            "Case 9 (Lists with varying lengths): [1, 2]\n"
          ]
        }
      ]
    },
    {
      "cell_type": "markdown",
      "source": [
        "Write a program that takes a string 's' consisting of only lowercase English letters (from 'a' to 'z') and performs the following operations:\n",
        "\n",
        "Identify the vowel (one of 'a', 'e', 'i', 'o', or 'u')  that appears with the highest frequency in the string.\n",
        "Identify the consonant (i.e., all other lowercase letters except vowels) that appears with the highest frequency.\n",
        "Compute and return the sum of the frequencies of the most frequent vowel and the most frequent consonant.\n",
        "\n",
        "\n",
        "Note: If multiple vowels or consonants have the same maximum frequency, you may choose any one of them.\n",
        "\n",
        "\n",
        "\n",
        "The frequency of a letter 'x' is the number of times it occurs in the string.\n",
        "\n",
        "\n",
        "\n",
        "Input Format:\n",
        "\n",
        "A string 's' consisting of lowercase English letters only.\n",
        "\n",
        "\n",
        "Output Format:\n",
        "\n",
        "Return the sum of the frequencies of the most frequent vowel and consonant.\n",
        "\n",
        "\n",
        "\n",
        "Constraints:\n",
        "\n",
        "1 <= len(s) <= 100\n",
        "'s' consists of lowercase English letters only.\n",
        "\n",
        "\n",
        "\n",
        "\n",
        "Sample Input 1:\n",
        "\n",
        "\"aeiaeia\"\n",
        "\n",
        "\n",
        "\n",
        "Sample Output 1:\n",
        "\n",
        "3\n",
        "\n",
        "\n",
        "\n",
        "Sample Input 2:\n",
        "\n",
        "\"successes\"\n",
        "\n",
        "\n",
        "\n",
        "Sample Output 2:\n",
        "\n",
        "6"
      ],
      "metadata": {
        "id": "5K6cehgrpB22"
      }
    },
    {
      "cell_type": "code",
      "source": [
        "def sum_of_highest_frequencies(s):\n",
        "    \"\"\"\n",
        "    Finds the sum of the frequencies of the most frequent vowel and consonant using only lists.\n",
        "\n",
        "    Args:\n",
        "        s: The input string consisting of lowercase English letters.\n",
        "\n",
        "    Returns:\n",
        "        The sum of the frequencies of the most frequent vowel and consonant.\n",
        "    \"\"\"\n",
        "    vowels = \"aeiou\"\n",
        "\n",
        "    vowel_list = []\n",
        "    consonant_list = []\n",
        "\n",
        "    for char in s:\n",
        "        if char in vowels:\n",
        "            vowel_list.append(char)\n",
        "        elif char.isalpha():\n",
        "            consonant_list.append(char)\n",
        "\n",
        "    # Count frequencies using lists\n",
        "    vowel_freq = []\n",
        "    for vowel in vowels:\n",
        "        count = vowel_list.count(vowel)\n",
        "        vowel_freq.append(count)\n",
        "\n",
        "    consonant_freq = []\n",
        "    # Create a list of all lowercase consonants\n",
        "    all_consonants = [chr(i) for i in range(ord('a'), ord('z') + 1) if chr(i) not in vowels]\n",
        "    for consonant in all_consonants:\n",
        "        count = consonant_list.count(consonant)\n",
        "        consonant_freq.append(count)\n",
        "\n",
        "    most_frequent_vowel_freq = 0\n",
        "    if vowel_freq:\n",
        "        most_frequent_vowel_freq = max(vowel_freq)\n",
        "\n",
        "    most_frequent_consonant_freq = 0\n",
        "    if consonant_freq:\n",
        "         most_frequent_consonant_freq = max(consonant_freq)\n",
        "\n",
        "\n",
        "    return most_frequent_vowel_freq + most_frequent_consonant_freq\n",
        "\n",
        "# Get input string\n",
        "input_string = input()\n",
        "\n",
        "# Calculate and print the result\n",
        "result = sum_of_highest_frequencies(input_string)\n",
        "print(result)"
      ],
      "metadata": {
        "colab": {
          "base_uri": "https://localhost:8080/"
        },
        "id": "m65_PewJpCs0",
        "outputId": "3ab8a88a-30fa-411f-b8e0-8798607ecd5a"
      },
      "execution_count": null,
      "outputs": [
        {
          "output_type": "stream",
          "name": "stdout",
          "text": [
            "aaeaearwrwrwetetaeaeaewwrrww\n",
            "14\n"
          ]
        }
      ]
    },
    {
      "cell_type": "markdown",
      "source": [
        "Write a program that defines a function 'longest_word(sentence)' which returns the longest word in the sentence. If multiple words have the same maximum length, return the first one among them.\n",
        "\n",
        "\n",
        "\n",
        "Input Format:\n",
        "\n",
        "A single line containing a sentence with words separated by spaces.\n",
        "\n",
        "\n",
        "\n",
        "Output Format:\n",
        "\n",
        "A single word that is the longest in the sentence.\n",
        "\n",
        "\n",
        "\n",
        "Constraints:\n",
        "\n",
        "Sentence contains at least one word\n",
        "Sentence length ≤ 100 characters\n",
        "All words consist of lowercase or uppercase English alphabets only\n",
        "The program should preserve the original casing of words. No case conversion is required.\n",
        "\n",
        "\n",
        "Sample Input 1:\n",
        "\n",
        "The elephant met a caterpillar\n",
        "\n",
        "\n",
        "\n",
        "Sample Output 1:\n",
        "\n",
        "caterpillar"
      ],
      "metadata": {
        "id": "lLsSg5852UP8"
      }
    },
    {
      "cell_type": "code",
      "source": [
        "def longest_word(sentence):\n",
        "    \"\"\"\n",
        "    Finds the longest word in a sentence.\n",
        "\n",
        "    Args:\n",
        "        sentence: The input sentence string.\n",
        "\n",
        "    Returns:\n",
        "        The longest word in the sentence.\n",
        "    \"\"\"\n",
        "    words = sentence.split()\n",
        "    longest = \"\"\n",
        "    for word in words:\n",
        "        if len(word) > len(longest):\n",
        "            longest = word\n",
        "    return longest\n",
        "\n",
        "# Get input sentence\n",
        "input_sentence = input()\n",
        "\n",
        "# Find and print the longest word\n",
        "print(longest_word(input_sentence))"
      ],
      "metadata": {
        "colab": {
          "base_uri": "https://localhost:8080/"
        },
        "id": "DUvL_aPy2U8I",
        "outputId": "04ce49fc-1886-4e53-fb71-d3cff4442969"
      },
      "execution_count": null,
      "outputs": [
        {
          "output_type": "stream",
          "name": "stdout",
          "text": [
            "The elephant met a caterpillar\n",
            "caterpillar\n"
          ]
        }
      ]
    },
    {
      "cell_type": "code",
      "metadata": {
        "colab": {
          "base_uri": "https://localhost:8080/"
        },
        "id": "7e952321",
        "outputId": "a6c123e7-b716-44c1-827e-a75ad7566a32"
      },
      "source": [
        "# Test case for multiple words with the same maximum length\n",
        "sentence_same_length = \"apple banana cherry date\"\n",
        "print(f\"Sentence: '{sentence_same_length}'\")\n",
        "print(f\"Longest word: {longest_word(sentence_same_length)}\")\n",
        "\n",
        "sentence_same_length_at_start = \"grape kiwi pear orange\"\n",
        "print(f\"Sentence: '{sentence_same_length_at_start}'\")\n",
        "print(f\"Longest word: {longest_word(sentence_same_length_at_start)}\")\n",
        "\n",
        "sentence_same_length_at_end = \"cat dog elephant mouse\"\n",
        "print(f\"Sentence: '{sentence_same_length_at_end}'\")\n",
        "print(f\"Longest word: {longest_word(sentence_same_length_at_end)}\")"
      ],
      "execution_count": null,
      "outputs": [
        {
          "output_type": "stream",
          "name": "stdout",
          "text": [
            "Sentence: 'apple banana cherry date'\n",
            "Longest word: banana\n",
            "Sentence: 'grape kiwi pear orange'\n",
            "Longest word: orange\n",
            "Sentence: 'cat dog elephant mouse'\n",
            "Longest word: elephant\n"
          ]
        }
      ]
    },
    {
      "cell_type": "markdown",
      "source": [
        "Write a function 'find_duplicate_strings(input_list)' that accepts a list of strings. The function must identify and return a new list containing only those strings that occur at least twice within the 'input_list'. The returned list must consist of unique strings, ordered by their first appearance as a duplicate in the original 'input_list'.\n",
        "\n",
        "\n",
        "\n",
        "Input Format:\n",
        "\n",
        "A list of strings, where each string contains only lowercase or uppercase alphabetical characters.\n",
        "The list can contain duplicate entries.\n",
        "Output Format:\n",
        "\n",
        "A list of strings that appear more than once in the input list.\n",
        "Each string in the output should appear only once, and in the order of its first duplication.\n",
        "\n",
        "\n",
        "Constraints:\n",
        "\n",
        "1 ≤ len(input_list) ≤ 100.\n",
        "Each string contains only alphabetic characters.\n",
        "Case-sensitive comparison (\"A\" ≠ \"a\")\n",
        "Return order must match the order in which duplicates appear.\n",
        "\n",
        "\n",
        "\n",
        "\n",
        "Sample Input 1:\n",
        "\n",
        "[\"a\", \"b\", \"a\", \"c\", \"b\"]\n",
        "\n",
        "\n",
        "Sample Output 1:\n",
        "\n",
        "['a', 'b']"
      ],
      "metadata": {
        "id": "ejPD7reAF5Fg"
      }
    },
    {
      "cell_type": "code",
      "source": [
        "def find_duplicate_strings(input_str):\n",
        "    \"\"\"\n",
        "    Identifies and returns a list of unique duplicate strings from an input string\n",
        "    representing a list, ordered by their first appearance as a duplicate,\n",
        "    using only lists.\n",
        "\n",
        "    Args:\n",
        "        input_str: A string representation of a list of strings (e.g., '[\"a\", \"b\", \"a\", \"c\", \"b\"]').\n",
        "\n",
        "    Returns:\n",
        "        A list containing unique duplicate strings in order of first duplication.\n",
        "    \"\"\"\n",
        "    # Parse the input string into a list of strings\n",
        "    try:\n",
        "        # Simple parsing assuming strings are within double quotes and separated by commas\n",
        "        # This is a basic approach and might fail for complex strings within the list\n",
        "        input_list = [item.strip().strip('\"') for item in input_str.strip()[1:-1].split(',')]\n",
        "    except Exception as e:\n",
        "        print(f\"Error parsing input string: {e}\")\n",
        "        print(\"Please ensure input is in the format '[\\\"string1\\\", \\\"string2\\\", ...]'\")\n",
        "        return [] # Return an empty list or handle the error as appropriate\n",
        "\n",
        "    seen = []\n",
        "    duplicates = []\n",
        "    for item in input_list:\n",
        "        # Check if the item has been seen before and is not already in the duplicates list\n",
        "        if item in seen and item not in duplicates:\n",
        "            duplicates.append(item)\n",
        "        # Add the item to the seen list if it's not already there\n",
        "        if item not in seen:\n",
        "            seen.append(item)\n",
        "    return duplicates\n",
        "\n",
        "# Get input string\n",
        "input_str = input()\n",
        "\n",
        "# Find and print duplicate strings\n",
        "result = find_duplicate_strings(input_str)\n",
        "print(result)"
      ],
      "metadata": {
        "colab": {
          "base_uri": "https://localhost:8080/"
        },
        "id": "g9r31-1jF5zx",
        "outputId": "7b92618f-7627-4015-f18b-d5169f97eaf5"
      },
      "execution_count": null,
      "outputs": [
        {
          "output_type": "stream",
          "name": "stdout",
          "text": [
            "[\"a\", \"b\", \"a\", \"c\", \"b\"]\n",
            "['a', 'b']\n"
          ]
        }
      ]
    },
    {
      "cell_type": "markdown",
      "source": [
        "Write a program that takes two strings, 'a' and 'b', as input and merges them by alternating characters from both strings.\n",
        "\n",
        "\n",
        "\n",
        "The program's task is to construct and return a new string formed by alternating characters from each string.\n",
        "\n",
        "Start by taking one character from string 'a', then one from string 'b', and continue this pattern.\n",
        "If one string runs out of characters before the other, append the remaining part of the longer string to the result.\n",
        "\n",
        "\n",
        "Input Format:\n",
        "\n",
        "Two strings 'a'  and 'b' (can be of different lengths).\n",
        "Each string contains only alphanumeric characters (a–z, A–Z, 0–9).\n",
        "Strings should not be empty.\n",
        "\n",
        "\n",
        "Output Format:\n",
        "\n",
        "A single string formed by alternating characters from strings 'a' and 'b'.\n",
        "\n",
        "\n",
        "\n",
        "Constraints:\n",
        "\n",
        "0 ≤ len(a), len(b) ≤ 1000\n",
        "Characters in strings 'a' and 'b' can be lowercase, uppercase, or digits.\n",
        "Case-sensitive merge (i.e., 'A' ≠ 'a')\n",
        "\n",
        "\n",
        "\n",
        "\n",
        "Sample Input:\n",
        "\n",
        "abc\n",
        "\n",
        "1234\n",
        "\n",
        "\n",
        "\n",
        "Sample Output:\n",
        "\n",
        "a1b2c34"
      ],
      "metadata": {
        "id": "wweOZSjtIkzU"
      }
    },
    {
      "cell_type": "code",
      "source": [
        "def merge_alternating(a, b):\n",
        "    \"\"\"\n",
        "    Merges two strings by alternating characters.\n",
        "\n",
        "    Args:\n",
        "        a: The first input string.\n",
        "        b: The second input string.\n",
        "\n",
        "    Returns:\n",
        "        A new string formed by alternating characters from a and b.\n",
        "    \"\"\"\n",
        "    merged = \"\"\n",
        "    i, j = 0, 0\n",
        "    while i < len(a) or j < len(b):\n",
        "        if i < len(a):\n",
        "            merged += a[i]\n",
        "            i += 1\n",
        "        if j < len(b):\n",
        "            merged += b[j]\n",
        "            j += 1\n",
        "    return merged\n",
        "\n",
        "# Get input strings\n",
        "string_a = input()\n",
        "string_b = input()\n",
        "\n",
        "# Merge and print the result\n",
        "result = merge_alternating(string_a, string_b)\n",
        "print(result)"
      ],
      "metadata": {
        "colab": {
          "base_uri": "https://localhost:8080/"
        },
        "id": "SYlHhtkrIlZY",
        "outputId": "75defd63-fb71-4030-b954-03af6079f9c3"
      },
      "execution_count": null,
      "outputs": [
        {
          "output_type": "stream",
          "name": "stdout",
          "text": [
            "abc\n",
            "1234\n",
            "a1b2c34\n"
          ]
        }
      ]
    },
    {
      "cell_type": "markdown",
      "source": [
        "Write a program to rearrange the list such that all even numbers appear before all odd numbers. The relative order of even and odd numbers should be preserved as in the original list.\n",
        "\n",
        "\n",
        "\n",
        "Input Format:\n",
        "\n",
        "An integer 'n', the number of elements in the list.\n",
        "A list of 'n' integers\n",
        "\n",
        "\n",
        "Output Format:\n",
        "\n",
        "A single list where all even numbers precede odd numbers, in their original order.\n",
        "\n",
        "\n",
        "\n",
        "Constraints:\n",
        "\n",
        "1 ≤ n ≤ 10⁴\n",
        "-10⁴ ≤ arr[i] ≤ 10⁴\n",
        "\n",
        "\n",
        "Sample Input:\n",
        "\n",
        "6\n",
        "\n",
        "1 2 3 4 5 6\n",
        "\n",
        "\n",
        "\n",
        "Sample Output:\n",
        "\n",
        "[2, 4, 6, 1, 3, 5]\n"
      ],
      "metadata": {
        "id": "11jogiNjJRyj"
      }
    },
    {
      "cell_type": "code",
      "source": [
        "def rearrange_even_odd(arr):\n",
        "    \"\"\"\n",
        "    Rearranges a list such that all even numbers appear before all odd numbers,\n",
        "    preserving the relative order of even and odd numbers.\n",
        "\n",
        "    Args:\n",
        "        arr: The input list of integers.\n",
        "\n",
        "    Returns:\n",
        "        A new list with even numbers followed by odd numbers,\n",
        "        preserving the original relative order within even and odd groups.\n",
        "    \"\"\"\n",
        "    even_numbers = []\n",
        "    odd_numbers = []\n",
        "    for number in arr:\n",
        "        if number % 2 == 0:\n",
        "            even_numbers.append(number)\n",
        "        else:\n",
        "            odd_numbers.append(number)\n",
        "    return even_numbers + odd_numbers\n",
        "\n",
        "# Get input\n",
        "n = int(input())\n",
        "input_list = list(map(int, input().split()))\n",
        "\n",
        "# Rearrange and print the result\n",
        "result = rearrange_even_odd(input_list)\n",
        "print(result)"
      ],
      "metadata": {
        "colab": {
          "base_uri": "https://localhost:8080/",
          "height": 228
        },
        "id": "q1G8yu8LJS7V",
        "outputId": "6d7fb866-9863-4878-e1bc-4477bded7efa"
      },
      "execution_count": 2,
      "outputs": [
        {
          "name": "stdout",
          "output_type": "stream",
          "text": [
            "[1,2,3,4,5,6]\n"
          ]
        },
        {
          "output_type": "error",
          "ename": "ValueError",
          "evalue": "invalid literal for int() with base 10: '[1,2,3,4,5,6]'",
          "traceback": [
            "\u001b[0;31m---------------------------------------------------------------------------\u001b[0m",
            "\u001b[0;31mValueError\u001b[0m                                Traceback (most recent call last)",
            "\u001b[0;32m/tmp/ipython-input-811996678.py\u001b[0m in \u001b[0;36m<cell line: 0>\u001b[0;34m()\u001b[0m\n\u001b[1;32m     21\u001b[0m \u001b[0;34m\u001b[0m\u001b[0m\n\u001b[1;32m     22\u001b[0m \u001b[0;31m# Get input\u001b[0m\u001b[0;34m\u001b[0m\u001b[0;34m\u001b[0m\u001b[0m\n\u001b[0;32m---> 23\u001b[0;31m \u001b[0mn\u001b[0m \u001b[0;34m=\u001b[0m \u001b[0mint\u001b[0m\u001b[0;34m(\u001b[0m\u001b[0minput\u001b[0m\u001b[0;34m(\u001b[0m\u001b[0;34m)\u001b[0m\u001b[0;34m)\u001b[0m\u001b[0;34m\u001b[0m\u001b[0;34m\u001b[0m\u001b[0m\n\u001b[0m\u001b[1;32m     24\u001b[0m \u001b[0minput_list_str\u001b[0m \u001b[0;34m=\u001b[0m \u001b[0minput\u001b[0m\u001b[0;34m(\u001b[0m\u001b[0;34m)\u001b[0m\u001b[0;34m\u001b[0m\u001b[0;34m\u001b[0m\u001b[0m\n\u001b[1;32m     25\u001b[0m \u001b[0;31m# Remove brackets and split by comma, then convert to integers\u001b[0m\u001b[0;34m\u001b[0m\u001b[0;34m\u001b[0m\u001b[0m\n",
            "\u001b[0;31mValueError\u001b[0m: invalid literal for int() with base 10: '[1,2,3,4,5,6]'"
          ]
        }
      ]
    },
    {
      "cell_type": "code",
      "source": [
        "# Import the literal_eval library to safely evaluate string input as a Python\n",
        "from ast import literal_eval\n",
        "\n",
        "# Taking input\n",
        "n = int(input())\n",
        "arr = literal_eval(input())\n",
        "\n",
        "def partition_even_odd(arr):\n",
        "    \"\"\"\n",
        "    Rearranges a list such that all even numbers appear before all odd numbers,\n",
        "    preserving the relative order of even and odd numbers.\n",
        "\n",
        "    Args:\n",
        "        arr: The input list of integers.\n",
        "\n",
        "    Returns:\n",
        "        A new list with even numbers followed by odd numbers,\n",
        "        preserving the original relative order within even and odd groups.\n",
        "    \"\"\"\n",
        "    even_numbers = []\n",
        "    odd_numbers = []\n",
        "    for number in arr:\n",
        "        if number % 2 == 0:\n",
        "            even_numbers.append(number)\n",
        "        else:\n",
        "            odd_numbers.append(number)\n",
        "    return even_numbers + odd_numbers\n",
        "\n",
        "# Print the output\n",
        "print(partition_even_odd(arr))"
      ],
      "metadata": {
        "colab": {
          "base_uri": "https://localhost:8080/"
        },
        "id": "DbWxJZwc4dQs",
        "outputId": "437c90a7-1ff7-4001-d674-1e28b7055e39"
      },
      "execution_count": 5,
      "outputs": [
        {
          "output_type": "stream",
          "name": "stdout",
          "text": [
            "4\n",
            "[1,2,3,4]\n",
            "[2, 4, 1, 3]\n"
          ]
        }
      ]
    },
    {
      "cell_type": "markdown",
      "source": [
        "Write a function that returns a list of all indices where the target element occurs in the list.\n",
        "\n",
        "\n",
        "\n",
        "The program should return the indices in ascending order. If the target does not appear in the list, return an empty list.\n",
        "\n",
        "\n",
        "\n",
        "Input Format:\n",
        "\n",
        "An integer n, representing the number of elements in the list.\n",
        "A list of n integers.\n",
        "An integer target, the element to find.\n",
        "\n",
        "\n",
        "Output Format:\n",
        "\n",
        "A list of integers representing the indices (0-based) where the target occurs in the list.\n",
        "\n",
        "\n",
        "\n",
        "Constraints:\n",
        "\n",
        "1 ≤ n ≤ 10⁴\n",
        "-10⁴ ≤ lst[i], target ≤ 10⁴\n",
        "\n",
        "\n",
        "\n",
        "\n",
        "Sample Input:\n",
        "\n",
        "6\n",
        "\n",
        "[1, 2, 3, 2, 4, 2]\n",
        "\n",
        "2\n",
        "\n",
        "\n",
        "\n",
        "Sample Output:\n",
        "\n",
        "[1, 3, 5]"
      ],
      "metadata": {
        "id": "28dxn6qv6PuG"
      }
    },
    {
      "cell_type": "code",
      "source": [
        "def find_indices(lst, target):\n",
        "    \"\"\"\n",
        "    Finds all indices where the target element occurs in the list.\n",
        "\n",
        "    Args:\n",
        "        lst: The input list of integers.\n",
        "        target: The integer target to find.\n",
        "\n",
        "    Returns:\n",
        "        A list of integers representing the indices (0-based) where the target occurs.\n",
        "        Returns an empty list if the target does not appear in the list.\n",
        "    \"\"\"\n",
        "    indices = []\n",
        "    for i in range(len(lst)):\n",
        "        if lst[i] == target:\n",
        "            indices.append(i)\n",
        "    return indices\n",
        "\n",
        "# Get input\n",
        "n = int(input())\n",
        "# Assuming the list is provided on a new line after n,\n",
        "# and in the format \"[1, 2, 3, 4, 5, 6]\"\n",
        "lst_str = input()\n",
        "from ast import literal_eval\n",
        "lst = literal_eval(lst_str)\n",
        "target = int(input())\n",
        "\n",
        "# Find and print the indices\n",
        "result = find_indices(lst, target)\n",
        "print(result)"
      ],
      "metadata": {
        "colab": {
          "base_uri": "https://localhost:8080/"
        },
        "id": "7fVSCe_e5I2k",
        "outputId": "8fc16516-34cc-4f84-a6c2-0c60499f3ede"
      },
      "execution_count": 6,
      "outputs": [
        {
          "output_type": "stream",
          "name": "stdout",
          "text": [
            "6\n",
            "[1,2,3,2,4,2]\n",
            "2\n",
            "[1, 3, 5]\n"
          ]
        }
      ]
    },
    {
      "cell_type": "markdown",
      "source": [
        "Write a function that takes a list of integers and returns a new list such that each element at index 'i' of the new list is the product of all the elements in the original list except the one at 'i'.\n",
        "\n",
        "Avoid using division to handle cases involving zeros.\n",
        "If the list contains only one element, return [1].\n",
        "\n",
        "\n",
        "Input Format:\n",
        "\n",
        "An integer 'n', the number of elements in the list.\n",
        "A list of 'n' integers.\n",
        "\n",
        "\n",
        "Output Format:\n",
        "\n",
        "A list of integers representing the product of all elements except self for each position.\n",
        "\n",
        "\n",
        "\n",
        "Constraints:\n",
        "\n",
        "1 ≤ n ≤ 10³\n",
        "-100 ≤ arr[i] ≤ 100\n",
        "\n",
        "\n",
        "\n",
        "\n",
        "Sample Input 1:\n",
        "\n",
        "4\n",
        "\n",
        "[1, 2, 3, 4]\n",
        "\n",
        "\n",
        "\n",
        "Sample Output 1:\n",
        "\n",
        "[24, 12, 8, 6]\n",
        "\n",
        "\n",
        "\n",
        "Sample Input 2:\n",
        "\n",
        "1\n",
        "\n",
        "[7]\n",
        "\n",
        "Sample Output 2:\n",
        "\n",
        "[1]"
      ],
      "metadata": {
        "id": "LN8uOVCy67FI"
      }
    },
    {
      "cell_type": "code",
      "source": [
        "from ast import literal_eval\n",
        "\n",
        "def product_except_self(arr):\n",
        "    \"\"\"\n",
        "    Calculates the product of all elements in a list except the element at the current index,\n",
        "    without using division.\n",
        "\n",
        "    Args:\n",
        "        arr: The input list of integers.\n",
        "\n",
        "    Returns:\n",
        "        A new list where each element is the product of all other elements in the original list.\n",
        "    \"\"\"\n",
        "    n = len(arr)\n",
        "    if n == 1:\n",
        "        return [1]\n",
        "\n",
        "    # Initialize the result list with 1s\n",
        "    result = [1] * n\n",
        "\n",
        "    # Calculate the product of elements to the left of the current index\n",
        "    left_product = 1\n",
        "    for i in range(n):\n",
        "        result[i] *= left_product\n",
        "        left_product *= arr[i]\n",
        "\n",
        "    # Calculate the product of elements to the right of the current index and\n",
        "    # multiply with the left product\n",
        "    right_product = 1\n",
        "    for i in range(n - 1, -1, -1):\n",
        "        result[i] *= right_product\n",
        "        right_product *= arr[i]\n",
        "\n",
        "    return result\n",
        "\n",
        "# Get input\n",
        "n = int(input())\n",
        "arr_str = input()\n",
        "arr = literal_eval(arr_str)\n",
        "\n",
        "# Calculate and print the result\n",
        "result = product_except_self(arr)\n",
        "print(result)"
      ],
      "metadata": {
        "colab": {
          "base_uri": "https://localhost:8080/"
        },
        "id": "aviyVlaW671z",
        "outputId": "c4345b2d-4613-4011-b07b-8ef81224e039"
      },
      "execution_count": 7,
      "outputs": [
        {
          "output_type": "stream",
          "name": "stdout",
          "text": [
            "4\n",
            "[1,2,3,4]\n",
            "[24, 12, 8, 6]\n"
          ]
        }
      ]
    },
    {
      "cell_type": "markdown",
      "source": [
        "Write a function that takes a list of integers and returns a new list containing all elements that appear exactly twice in the list.\n",
        "\n",
        "\n",
        "\n",
        "The result should be returned in ascending order. If no element appears exactly twice, return an empty list.\n",
        "\n",
        "\n",
        "\n",
        "Input Format:\n",
        "\n",
        "An integer n, the number of elements in the list.\n",
        "A list of n integers.\n",
        "\n",
        "\n",
        "Output Format:\n",
        "\n",
        "Return a list of integers that occur exactly twice in the input list.\n",
        "The output list must be in ascending order.\n",
        "If no element appears exactly twice, return an empty list ([]).\n",
        "\n",
        "\n",
        "Constraints:\n",
        "\n",
        "1 ≤ n ≤ 1000\n",
        "-10⁴ ≤ arr[i] ≤ 10⁴\n",
        "\n",
        "\n",
        "\n",
        "\n",
        "Sample Input 1:\n",
        "\n",
        "6\n",
        "\n",
        "[1, 2, 3, 2, 4, 1]\n",
        "\n",
        "\n",
        "\n",
        "Sample Output 1:\n",
        "\n",
        "[1, 2]\n",
        "\n",
        "\n",
        "\n",
        "\n",
        "Sample Input 2:\n",
        "\n",
        "4\n",
        "\n",
        "[7, 8, 9, 10]\n",
        "\n",
        "\n",
        "\n",
        "Sample Output 2:\n",
        "\n",
        "[]"
      ],
      "metadata": {
        "id": "Tbyt2Aeb8Mi4"
      }
    },
    {
      "cell_type": "code",
      "source": [
        "from ast import literal_eval\n",
        "\n",
        "def find_elements_appearing_twice(arr):\n",
        "    \"\"\"\n",
        "    Finds elements that appear exactly twice in a list and returns them in ascending order,\n",
        "    using only list data structures.\n",
        "\n",
        "    Args:\n",
        "        arr: The input list of integers.\n",
        "\n",
        "    Returns:\n",
        "        A new list containing elements that appear exactly twice, in ascending order.\n",
        "        Returns an empty list if no element appears exactly twice.\n",
        "    \"\"\"\n",
        "    # Create a list of unique elements and a list of their counts\n",
        "    unique_elements = []\n",
        "    counts = []\n",
        "\n",
        "    for number in arr:\n",
        "        if number in unique_elements:\n",
        "            # Find the index of the existing element and increment its count\n",
        "            index = unique_elements.index(number)\n",
        "            counts[index] += 1\n",
        "        else:\n",
        "            # Add the new unique element and initialize its count to 1\n",
        "            unique_elements.append(number)\n",
        "            counts.append(1)\n",
        "\n",
        "    result = []\n",
        "    # Iterate through the unique elements and their counts\n",
        "    for i in range(len(unique_elements)):\n",
        "        if counts[i] == 2:\n",
        "            result.append(unique_elements[i])\n",
        "\n",
        "    result.sort()\n",
        "    return result\n",
        "\n",
        "# Get input\n",
        "n = int(input())\n",
        "arr_str = input()\n",
        "arr = literal_eval(arr_str)\n",
        "\n",
        "# Find and print the result\n",
        "result = find_elements_appearing_twice(arr)\n",
        "print(result)"
      ],
      "metadata": {
        "colab": {
          "base_uri": "https://localhost:8080/"
        },
        "id": "gErNpOD08NQE",
        "outputId": "28c8a573-9c41-4518-e62c-f690b4794993"
      },
      "execution_count": 9,
      "outputs": [
        {
          "output_type": "stream",
          "name": "stdout",
          "text": [
            "4\n",
            "[1,2,2,3]\n",
            "[2]\n"
          ]
        }
      ]
    }
  ]
}