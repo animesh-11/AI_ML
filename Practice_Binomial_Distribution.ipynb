{
  "nbformat": 4,
  "nbformat_minor": 0,
  "metadata": {
    "colab": {
      "provenance": [],
      "authorship_tag": "ABX9TyONeFphDTd4CO+tSzdRtoyM",
      "include_colab_link": true
    },
    "kernelspec": {
      "name": "python3",
      "display_name": "Python 3"
    },
    "language_info": {
      "name": "python"
    }
  },
  "cells": [
    {
      "cell_type": "markdown",
      "metadata": {
        "id": "view-in-github",
        "colab_type": "text"
      },
      "source": [
        "<a href=\"https://colab.research.google.com/github/animesh-11/AI_ML/blob/main/Practice_Binomial_Distribution.ipynb\" target=\"_parent\"><img src=\"https://colab.research.google.com/assets/colab-badge.svg\" alt=\"Open In Colab\"/></a>"
      ]
    },
    {
      "cell_type": "markdown",
      "source": [
        "Given the number of trials n, the number of successful outcomes k, and the probability p of success on a single trial, write a Python program to calculate the binomial probability using the formula:\n",
        "\n",
        "\n",
        "\n",
        "\n",
        "\n",
        "The answer should be rounded to 2 decimal places.\n",
        "\n",
        "\n",
        "\n",
        "You can use the math.comb() function here for calculating combinations.\n",
        "\n",
        "\n",
        "\n",
        "Input Format:\n",
        "\n",
        "A tuple: (n, k, p) where n and k are integers and p is a float between 0 and 1 inclusive.\n",
        "\n",
        "\n",
        "\n",
        "Output Format:\n",
        "\n",
        "A float rounded to 2 decimal places or \"Invalid input\" if the inputs are not within acceptable ranges.\n",
        "\n",
        "\n",
        "\n",
        "Sample Input:\n",
        "\n",
        "(5, 2, 0.5)\n",
        "\n",
        "\n",
        "\n",
        "Sample Output:\n",
        "\n",
        "0.31"
      ],
      "metadata": {
        "id": "mkq0ujcPxLaa"
      }
    },
    {
      "cell_type": "code",
      "execution_count": null,
      "metadata": {
        "id": "XefQQQg6xFtc"
      },
      "outputs": [],
      "source": [
        "import math\n",
        "\n",
        "def binomial_probability(n, k, p):\n",
        "  \"\"\"\n",
        "  Calculates the binomial probability.\n",
        "\n",
        "  Args:\n",
        "    n: The number of trials (integer).\n",
        "    k: The number of successful outcomes (integer).\n",
        "    p: The probability of success on a single trial (float between 0 and 1 inclusive).\n",
        "\n",
        "  Returns:\n",
        "    A float rounded to 2 decimal places or \"Invalid input\" if the inputs are not within acceptable ranges.\n",
        "  \"\"\"\n",
        "  if not isinstance(n, int) or not isinstance(k, int) or not isinstance(p, (int, float)):\n",
        "      return \"Invalid input\"\n",
        "  if not 0 <= p <= 1:\n",
        "      return \"Invalid input\"\n",
        "  if not 0 <= k <= n:\n",
        "      return \"Invalid input\"\n",
        "\n",
        "\n",
        "  # Calculate the binomial probability using the formula\n",
        "  probability = math.comb(n, k) * (p**k) * ((1 - p)**(n - k))\n",
        "\n",
        "  return round(probability, 2)\n",
        "\n",
        "# Sample Input:\n",
        "input_tuple = (5, 2, 0.5)\n",
        "output = binomial_probability(*input_tuple)\n",
        "print(output)\n",
        "\n",
        "# Another example\n",
        "input_tuple_2 = (10, 3, 0.2)\n",
        "output_2 = binomial_probability(*input_tuple_2)\n",
        "print(output_2)\n",
        "\n",
        "# Invalid input example\n",
        "input_tuple_3 = (5, 6, 0.5)\n",
        "output_3 = binomial_probability(*input_tuple_3)\n",
        "print(output_3)\n",
        "\n",
        "input_tuple_4 = (5, 2, 1.5)\n",
        "output_4 = binomial_probability(*input_tuple_4)\n",
        "print(output_4)"
      ]
    },
    {
      "cell_type": "code",
      "source": [
        "import math, ast\n",
        "data = ast.literal_eval(input())\n",
        "\n",
        "# The tuple has been taken as input for you\n",
        "# Write your code below\n",
        "\n",
        "n, k, p = data\n",
        "\n",
        "if not isinstance(n, int) or not isinstance(k, int) or not isinstance(p, (int, float)):\n",
        "    print(\"Invalid input\")\n",
        "elif not 0 <= p <= 1:\n",
        "    print(\"Invalid input\")\n",
        "elif not 0 <= k <= n:\n",
        "    print(\"Invalid input\")\n",
        "else:\n",
        "    # Calculate the binomial probability using the formula\n",
        "    probability = math.comb(n, k) * (p**k) * ((1 - p)**(n - k))\n",
        "    print(round(probability, 2))"
      ],
      "metadata": {
        "id": "OkGAiVooyovv"
      },
      "execution_count": null,
      "outputs": []
    }
  ]
}