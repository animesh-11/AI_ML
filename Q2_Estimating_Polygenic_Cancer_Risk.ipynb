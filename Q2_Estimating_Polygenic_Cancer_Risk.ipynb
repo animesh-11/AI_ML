{
  "metadata": {
    "kernelspec": {
      "name": "python",
      "display_name": "Python (Pyodide)",
      "language": "python"
    },
    "language_info": {
      "codemirror_mode": {
        "name": "python",
        "version": 3
      },
      "file_extension": ".py",
      "mimetype": "text/x-python",
      "name": "python",
      "nbconvert_exporter": "python",
      "pygments_lexer": "ipython3",
      "version": "3.8"
    },
    "colab": {
      "provenance": [],
      "include_colab_link": true
    }
  },
  "nbformat_minor": 5,
  "nbformat": 4,
  "cells": [
    {
      "cell_type": "markdown",
      "metadata": {
        "id": "view-in-github",
        "colab_type": "text"
      },
      "source": [
        "<a href=\"https://colab.research.google.com/github/animesh-11/AI_ML/blob/main/Q2_Estimating_Polygenic_Cancer_Risk.ipynb\" target=\"_parent\"><img src=\"https://colab.research.google.com/assets/colab-badge.svg\" alt=\"Open In Colab\"/></a>"
      ]
    },
    {
      "id": "8997431a-e6d5-49a1-af72-5165091eeebe",
      "cell_type": "markdown",
      "source": [
        "## Q2 Estimating Polygenic Cancer Risk\n",
        "\n",
        "### **Question Description**\n",
        "\n",
        "Hereditary cancer syndromes are caused by inherited mutations in specific genes that increase cancer risk. These conditions often result from the combined effect of multiple mutated genes rather than a single mutation.\n",
        "\n",
        "Each gene has an independent mutation probability. If `k` or more out of `n` genes are mutated in an individual, the individual is considered at high risk of hereditary cancer syndromes.\n",
        "\n",
        "Your task is to implement the function **`polygenic_disease_risk(n, k, mutation_probs)`** that estimates the probability that an individual is at high risk of hereditary cancer syndromes, based on gene-specific mutation probabilities.\n",
        "\n",
        "> **Note:** To calculate the probability that an individual is at high risk, consider all possible combinations of gene mutations (since each gene has an independent mutation probability). For each combination, calculate the probability by multiplying the individual probabilities. Then, sum the probabilities where `k` or more genes are mutated. This total gives the probability of high risk.\n",
        "\n",
        "### **Input Format**\n",
        "-  A tuple whose elements, respectively, are\n",
        "      - `n` (**int**): Total number of genes  \n",
        "      - `k` (**int**): Minimum number of mutated genes required for high-risk classification  \n",
        "      - `mutation_probs` (**list of float**): Mutation probabilities for each gene\n",
        "\n",
        "### **Output Format**\n",
        "- A value (**float**) representing the probability of high-risk classification\n",
        "\n",
        "### **Constraints**\n",
        "- `n` > 1\n",
        "- 0 ≤ `k` ≤ n\n",
        "- `len(mutation_probs)` = `n`\n",
        "- All values in `mutation_probs` are between 0 and 1\n",
        "- The result are rounded to 4 decimal places\n",
        "\n",
        "### **Example Cases**\n",
        "\n",
        "**Example Case 1**\n",
        "```\n",
        "Input  \n",
        "(4, 2, [0.1, 0.2, 0.3, 0.4])\n",
        "\n",
        "Output  \n",
        "0.2572\n",
        "```\n",
        "\n",
        "**Example Case 2**\n",
        "```   \n",
        "Input  \n",
        "(5, 3, [0.05, 0.15, 0.2, 0.25, 0.1])\n",
        "\n",
        "Output  \n",
        "0.0232\n",
        "```\n",
        "\n",
        "\n",
        "### **Code Stub**\n",
        "```python\n",
        "# Libraries (do not edit)\n",
        "from ast import literal_eval\n",
        "\n",
        "def polygenic_disease_risk(n, k, mutation_probs):\n",
        "    # Your code here\n",
        "\n",
        "# Input and output handling (do not edit)\n",
        "print(round(polygenic_disease_risk(*literal_eval(input())), 4))\n",
        "```"
      ],
      "metadata": {
        "id": "8997431a-e6d5-49a1-af72-5165091eeebe"
      }
    },
    {
      "cell_type": "code",
      "source": [
        "# Libraries (do not edit)\n",
        "from ast import literal_eval\n",
        "\n",
        "def polygenic_disease_risk(n, k, mutation_probs):\n",
        "    # Your code here\n",
        "    def calculate_prob(index, current_mutations, current_prob):\n",
        "        if index == n:\n",
        "            if current_mutations >= k:\n",
        "                return current_prob\n",
        "            else:\n",
        "                return 0.0\n",
        "\n",
        "        # Case 1: Gene at index mutates\n",
        "        prob_with_mutation = calculate_prob(index + 1, current_mutations + 1, current_prob * mutation_probs[index])\n",
        "\n",
        "        # Case 2: Gene at index does not mutate\n",
        "        prob_without_mutation = calculate_prob(index + 1, current_mutations, current_prob * (1 - mutation_probs[index]))\n",
        "\n",
        "        return prob_with_mutation + prob_without_mutation\n",
        "\n",
        "    return calculate_prob(0, 0, 1.0)\n",
        "\n",
        "# Input and output handling (do not edit)\n",
        "print(round(polygenic_disease_risk(*literal_eval(input())), 4))"
      ],
      "metadata": {
        "colab": {
          "base_uri": "https://localhost:8080/"
        },
        "id": "8H47hpMQ4K7O",
        "outputId": "7d8cf65f-09cc-4a93-aace-e1762802c285"
      },
      "id": "8H47hpMQ4K7O",
      "execution_count": 1,
      "outputs": [
        {
          "output_type": "stream",
          "name": "stdout",
          "text": [
            "(4, 2, [0.1, 0.2, 0.3, 0.4])\n",
            "0.2572\n"
          ]
        }
      ]
    },
    {
      "cell_type": "code",
      "source": [],
      "metadata": {
        "id": "pBFEV6x3404C"
      },
      "id": "pBFEV6x3404C",
      "execution_count": null,
      "outputs": []
    }
  ]
}