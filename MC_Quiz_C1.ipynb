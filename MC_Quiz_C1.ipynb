{
  "nbformat": 4,
  "nbformat_minor": 0,
  "metadata": {
    "colab": {
      "provenance": [],
      "authorship_tag": "ABX9TyNWqtg5Qo5mtYLf/66bWCCt",
      "include_colab_link": true
    },
    "kernelspec": {
      "name": "python3",
      "display_name": "Python 3"
    },
    "language_info": {
      "name": "python"
    }
  },
  "cells": [
    {
      "cell_type": "markdown",
      "metadata": {
        "id": "view-in-github",
        "colab_type": "text"
      },
      "source": [
        "<a href=\"https://colab.research.google.com/github/animesh-11/AI_ML/blob/main/MC_Quiz_C1.ipynb\" target=\"_parent\"><img src=\"https://colab.research.google.com/assets/colab-badge.svg\" alt=\"Open In Colab\"/></a>"
      ]
    },
    {
      "cell_type": "markdown",
      "source": [
        "You have the total number of students in a class, the number of students who passed math, and the number of students who passed both math and science, provided as a tuple with elements in the same order.\n",
        "\n",
        "\n",
        "\n",
        "Write a Python program to calculate and display the conditional probability that a student passed science given that they passed math.\n",
        "\n",
        "\n",
        "\n",
        "The program should output the probability asked above, rounded to the nearest 2 decimal places. If any case turns out to be invalid, the program should output ‘Invalid input’.\n",
        "\n",
        "\n",
        "\n",
        "\n",
        "\n",
        "Sample input: (20, 5, 5)\n",
        "\n",
        "\n",
        "\n",
        "Sample output: 1\n",
        "\n",
        "\n",
        "\n",
        "Explanation:\n",
        "\n",
        "From the input, we get the values as follows:\n",
        "\n",
        "Total number of students = 20\n",
        "Number of students who passed math = 5\n",
        "The number of students who passed both math and science = 5\n",
        "Calculating the conditional probability for this will give us the output 1.\n",
        "\n",
        "\n",
        "\n",
        "\n",
        "\n",
        "Sample input: (20, 5, 10)\n",
        "\n",
        "\n",
        "\n",
        "Sample output: Invalid input\n",
        "\n",
        "\n",
        "\n",
        "Explanation:\n",
        "\n",
        "The number of students passing in both subjects cannot be more than the students passing in one."
      ],
      "metadata": {
        "id": "4QaLQ8n4dViV"
      }
    },
    {
      "cell_type": "code",
      "source": [
        "import ast\n",
        "\n",
        "# Tuple input has been taken for you\n",
        "data = ast.literal_eval(input())\n",
        "\n",
        "\n",
        "# Write your code below, 'data' is the tuple\n",
        "t, m , m_s = data\n",
        "\n",
        "if (m == 0):\n",
        "    print(\"Invalid input\")\n",
        "elif (m >= m_s):\n",
        "    print(round(m_s / m, 2))\n",
        "else:\n",
        "    print(\"Invalid input\")\n",
        "\n"
      ],
      "metadata": {
        "colab": {
          "base_uri": "https://localhost:8080/"
        },
        "id": "oItK6lBCbaPV",
        "outputId": "dd951b42-218a-4980-d895-14e34b4b7940"
      },
      "execution_count": 4,
      "outputs": [
        {
          "output_type": "stream",
          "name": "stdout",
          "text": [
            "(50, 30, 15)\n",
            "0.5\n"
          ]
        }
      ]
    },
    {
      "cell_type": "code",
      "source": [],
      "metadata": {
        "id": "CK1dVRYmdaJ6"
      },
      "execution_count": null,
      "outputs": []
    }
  ]
}