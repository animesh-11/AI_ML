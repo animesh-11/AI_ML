{
  "cells": [
    {
      "cell_type": "markdown",
      "metadata": {
        "id": "view-in-github",
        "colab_type": "text"
      },
      "source": [
        "<a href=\"https://colab.research.google.com/github/animesh-11/AI_ML/blob/main/File_Handling_Starter_Submission.ipynb\" target=\"_parent\"><img src=\"https://colab.research.google.com/assets/colab-badge.svg\" alt=\"Open In Colab\"/></a>"
      ]
    },
    {
      "cell_type": "markdown",
      "metadata": {
        "id": "_bIkNbC2z8oL"
      },
      "source": [
        "# Objective\n",
        "The objective of this assignment is to read data from popular file formats (.csv, .txt, .json), to perform operations on this data, and to finally save this modified data into the original file formats."
      ]
    },
    {
      "cell_type": "markdown",
      "metadata": {
        "id": "TCi_8EQ_SKh2"
      },
      "source": [
        "# Pipeline that needs to be followed\n",
        "\n",
        "The overall objective of this project is to create a system for managing product information in an e-commerce platform. The different stages involved in the process are outlined below:\n",
        "\n",
        "### 1. Set up project and load data\n",
        "\n",
        "&emsp;**1.1** Import required libraries  \n",
        "&emsp;**1.2** Load the data\n",
        "\n",
        "### 2. Create or update data\n",
        "\n",
        "&emsp;**2.1** Add or update sales data  \n",
        "&emsp;**2.2** Add or update product details  \n",
        "&emsp;**2.3** Add or update product description  \n",
        "&emsp;**2.4** Update function\n",
        "\n",
        "### 3. Save data to disk\n",
        "\n",
        "&emsp;**3.1** Save data to disk\n"
      ]
    },
    {
      "cell_type": "markdown",
      "metadata": {
        "id": "nSDjItPDapX4"
      },
      "source": [
        "## **1.**  Set up project and load data  <font color = red>[15 marks]</font>\n",
        "\n",
        "In this stage, you will set up the environment for this assignment by loading the required modules and files. You will explore the files by displaying their content."
      ]
    },
    {
      "cell_type": "markdown",
      "metadata": {
        "id": "7fwAly7Kc9ei"
      },
      "source": [
        "### **1.1** - Import required modules  <font color = red>[5 marks]</font>"
      ]
    },
    {
      "cell_type": "markdown",
      "metadata": {
        "id": "mWz3KDiuotgp"
      },
      "source": [
        "### Description\n",
        "In this task, you will import all the necessary modules and packages required for performing various operations in the project."
      ]
    },
    {
      "cell_type": "code",
      "execution_count": 1,
      "metadata": {
        "id": "uKKJxfEj6o1C"
      },
      "outputs": [],
      "source": [
        "# Use this cell to import all the required packages and methods\n",
        "\n",
        "# Import package for navigating through files stored on your device/on Google Colaboratory\n",
        "import os\n",
        "\n",
        "# Import package for working with JSON files\n",
        "import json\n",
        "\n",
        "# Import package for working with CSV files\n",
        "import csv\n",
        "import pandas as pd"
      ]
    },
    {
      "cell_type": "markdown",
      "metadata": {
        "id": "BOLRp-Ydph2X"
      },
      "source": [
        "### **1.2** Load the data  <font color = red>[10 marks]</font>"
      ]
    },
    {
      "cell_type": "markdown",
      "metadata": {
        "id": "n3LqSPrspl8b"
      },
      "source": [
        "### Description\n",
        "In this task, you will write a function that ensures that the necessary files are loaded into the environment. To index the data, you will use a unique identifier called SKU.\n",
        "\n",
        "This includes loading sales data from a CSV file, product details from JSON files, and product descriptions from text files. We recommend that you either use Jupyter Notebook or Google Colab to build and execute your code."
      ]
    },
    {
      "cell_type": "markdown",
      "metadata": {
        "id": "VQRLEoiZ-QxY"
      },
      "source": [
        "First, if you are using Google Colab, mount Google Drive to your VM. If not, skip and comment out this cell."
      ]
    },
    {
      "cell_type": "code",
      "execution_count": 2,
      "metadata": {
        "id": "SKYzyofLO8KU",
        "colab": {
          "base_uri": "https://localhost:8080/"
        },
        "outputId": "c446b275-d5aa-4771-c88b-f0c390f5ab3c"
      },
      "outputs": [
        {
          "output_type": "stream",
          "name": "stdout",
          "text": [
            "Mounted at /content/drive\n"
          ]
        }
      ],
      "source": [
        "# Use this cell to write your code for mounting your Google Drive\n",
        "# Note: If you are not using Google Colab, please skip this cell\n",
        "\n",
        "# In case you are using Google Colab, mount your Google Drive before moving on\n",
        "from google.colab import drive\n",
        "drive.mount('/content/drive', force_remount = True)"
      ]
    },
    {
      "cell_type": "markdown",
      "metadata": {
        "id": "EChyWcmq-5Vi"
      },
      "source": [
        "If you are using Colab, after mounting the drive you need to unzip the files to extract all the images inside it. Note that you don't need to perform this step more than once, so we recommend that you comment out your code for this step once it has executed."
      ]
    },
    {
      "cell_type": "code",
      "execution_count": null,
      "metadata": {
        "id": "-6mxIHoPO7Um"
      },
      "outputs": [],
      "source": [
        "# Use this cell to write your code for unzipping the data and storing it in Google Drive\n",
        "# Note: If you are not using Google Colab, please skip this cell\n",
        "# Note: You can comment out this cell after running it once\n",
        "\n",
        "# Unzip your files and store them in your drive\n",
        "# !unzip /content/drive/MyDrive/File_Handling_Project/mainfolder.zip"
      ]
    },
    {
      "cell_type": "markdown",
      "metadata": {
        "id": "LeX06K8AFxnC"
      },
      "source": [
        "**Alternatively,** you can also upload files to the Google Colab runtime environment without mounting Google Drive. In this case so you will always be in the same path/directory inside your Google Colab runtime. Files will be saved into your runtime and not into your Google Drive.\n",
        "The files you uploaded will be available until you delete the runtime."
      ]
    },
    {
      "cell_type": "code",
      "execution_count": 2,
      "metadata": {
        "id": "eupwHKLZEE3b",
        "colab": {
          "base_uri": "https://localhost:8080/",
          "height": 73
        },
        "outputId": "ed9933c3-5f98-4533-aa5e-7f57a232e0b9"
      },
      "outputs": [
        {
          "output_type": "display_data",
          "data": {
            "text/plain": [
              "<IPython.core.display.HTML object>"
            ],
            "text/html": [
              "\n",
              "     <input type=\"file\" id=\"files-e66f513e-0de3-4cde-9d34-67752ca5fd9c\" name=\"files[]\" multiple disabled\n",
              "        style=\"border:none\" />\n",
              "     <output id=\"result-e66f513e-0de3-4cde-9d34-67752ca5fd9c\">\n",
              "      Upload widget is only available when the cell has been executed in the\n",
              "      current browser session. Please rerun this cell to enable.\n",
              "      </output>\n",
              "      <script>// Copyright 2017 Google LLC\n",
              "//\n",
              "// Licensed under the Apache License, Version 2.0 (the \"License\");\n",
              "// you may not use this file except in compliance with the License.\n",
              "// You may obtain a copy of the License at\n",
              "//\n",
              "//      http://www.apache.org/licenses/LICENSE-2.0\n",
              "//\n",
              "// Unless required by applicable law or agreed to in writing, software\n",
              "// distributed under the License is distributed on an \"AS IS\" BASIS,\n",
              "// WITHOUT WARRANTIES OR CONDITIONS OF ANY KIND, either express or implied.\n",
              "// See the License for the specific language governing permissions and\n",
              "// limitations under the License.\n",
              "\n",
              "/**\n",
              " * @fileoverview Helpers for google.colab Python module.\n",
              " */\n",
              "(function(scope) {\n",
              "function span(text, styleAttributes = {}) {\n",
              "  const element = document.createElement('span');\n",
              "  element.textContent = text;\n",
              "  for (const key of Object.keys(styleAttributes)) {\n",
              "    element.style[key] = styleAttributes[key];\n",
              "  }\n",
              "  return element;\n",
              "}\n",
              "\n",
              "// Max number of bytes which will be uploaded at a time.\n",
              "const MAX_PAYLOAD_SIZE = 100 * 1024;\n",
              "\n",
              "function _uploadFiles(inputId, outputId) {\n",
              "  const steps = uploadFilesStep(inputId, outputId);\n",
              "  const outputElement = document.getElementById(outputId);\n",
              "  // Cache steps on the outputElement to make it available for the next call\n",
              "  // to uploadFilesContinue from Python.\n",
              "  outputElement.steps = steps;\n",
              "\n",
              "  return _uploadFilesContinue(outputId);\n",
              "}\n",
              "\n",
              "// This is roughly an async generator (not supported in the browser yet),\n",
              "// where there are multiple asynchronous steps and the Python side is going\n",
              "// to poll for completion of each step.\n",
              "// This uses a Promise to block the python side on completion of each step,\n",
              "// then passes the result of the previous step as the input to the next step.\n",
              "function _uploadFilesContinue(outputId) {\n",
              "  const outputElement = document.getElementById(outputId);\n",
              "  const steps = outputElement.steps;\n",
              "\n",
              "  const next = steps.next(outputElement.lastPromiseValue);\n",
              "  return Promise.resolve(next.value.promise).then((value) => {\n",
              "    // Cache the last promise value to make it available to the next\n",
              "    // step of the generator.\n",
              "    outputElement.lastPromiseValue = value;\n",
              "    return next.value.response;\n",
              "  });\n",
              "}\n",
              "\n",
              "/**\n",
              " * Generator function which is called between each async step of the upload\n",
              " * process.\n",
              " * @param {string} inputId Element ID of the input file picker element.\n",
              " * @param {string} outputId Element ID of the output display.\n",
              " * @return {!Iterable<!Object>} Iterable of next steps.\n",
              " */\n",
              "function* uploadFilesStep(inputId, outputId) {\n",
              "  const inputElement = document.getElementById(inputId);\n",
              "  inputElement.disabled = false;\n",
              "\n",
              "  const outputElement = document.getElementById(outputId);\n",
              "  outputElement.innerHTML = '';\n",
              "\n",
              "  const pickedPromise = new Promise((resolve) => {\n",
              "    inputElement.addEventListener('change', (e) => {\n",
              "      resolve(e.target.files);\n",
              "    });\n",
              "  });\n",
              "\n",
              "  const cancel = document.createElement('button');\n",
              "  inputElement.parentElement.appendChild(cancel);\n",
              "  cancel.textContent = 'Cancel upload';\n",
              "  const cancelPromise = new Promise((resolve) => {\n",
              "    cancel.onclick = () => {\n",
              "      resolve(null);\n",
              "    };\n",
              "  });\n",
              "\n",
              "  // Wait for the user to pick the files.\n",
              "  const files = yield {\n",
              "    promise: Promise.race([pickedPromise, cancelPromise]),\n",
              "    response: {\n",
              "      action: 'starting',\n",
              "    }\n",
              "  };\n",
              "\n",
              "  cancel.remove();\n",
              "\n",
              "  // Disable the input element since further picks are not allowed.\n",
              "  inputElement.disabled = true;\n",
              "\n",
              "  if (!files) {\n",
              "    return {\n",
              "      response: {\n",
              "        action: 'complete',\n",
              "      }\n",
              "    };\n",
              "  }\n",
              "\n",
              "  for (const file of files) {\n",
              "    const li = document.createElement('li');\n",
              "    li.append(span(file.name, {fontWeight: 'bold'}));\n",
              "    li.append(span(\n",
              "        `(${file.type || 'n/a'}) - ${file.size} bytes, ` +\n",
              "        `last modified: ${\n",
              "            file.lastModifiedDate ? file.lastModifiedDate.toLocaleDateString() :\n",
              "                                    'n/a'} - `));\n",
              "    const percent = span('0% done');\n",
              "    li.appendChild(percent);\n",
              "\n",
              "    outputElement.appendChild(li);\n",
              "\n",
              "    const fileDataPromise = new Promise((resolve) => {\n",
              "      const reader = new FileReader();\n",
              "      reader.onload = (e) => {\n",
              "        resolve(e.target.result);\n",
              "      };\n",
              "      reader.readAsArrayBuffer(file);\n",
              "    });\n",
              "    // Wait for the data to be ready.\n",
              "    let fileData = yield {\n",
              "      promise: fileDataPromise,\n",
              "      response: {\n",
              "        action: 'continue',\n",
              "      }\n",
              "    };\n",
              "\n",
              "    // Use a chunked sending to avoid message size limits. See b/62115660.\n",
              "    let position = 0;\n",
              "    do {\n",
              "      const length = Math.min(fileData.byteLength - position, MAX_PAYLOAD_SIZE);\n",
              "      const chunk = new Uint8Array(fileData, position, length);\n",
              "      position += length;\n",
              "\n",
              "      const base64 = btoa(String.fromCharCode.apply(null, chunk));\n",
              "      yield {\n",
              "        response: {\n",
              "          action: 'append',\n",
              "          file: file.name,\n",
              "          data: base64,\n",
              "        },\n",
              "      };\n",
              "\n",
              "      let percentDone = fileData.byteLength === 0 ?\n",
              "          100 :\n",
              "          Math.round((position / fileData.byteLength) * 100);\n",
              "      percent.textContent = `${percentDone}% done`;\n",
              "\n",
              "    } while (position < fileData.byteLength);\n",
              "  }\n",
              "\n",
              "  // All done.\n",
              "  yield {\n",
              "    response: {\n",
              "      action: 'complete',\n",
              "    }\n",
              "  };\n",
              "}\n",
              "\n",
              "scope.google = scope.google || {};\n",
              "scope.google.colab = scope.google.colab || {};\n",
              "scope.google.colab._files = {\n",
              "  _uploadFiles,\n",
              "  _uploadFilesContinue,\n",
              "};\n",
              "})(self);\n",
              "</script> "
            ]
          },
          "metadata": {}
        },
        {
          "output_type": "stream",
          "name": "stdout",
          "text": [
            "Saving mainfolder.zip to mainfolder.zip\n"
          ]
        }
      ],
      "source": [
        "# Use this cell to write your code for uploading the zip file\n",
        "# Note: If you are not using Google Colab, please skip this cell\n",
        "\n",
        "# Upload the zip file to Google Colab runtime\n",
        "from google.colab import files\n",
        "uploaded = files.upload()"
      ]
    },
    {
      "cell_type": "markdown",
      "metadata": {
        "id": "ze-qtCwAGlhp"
      },
      "source": [
        "After uploading your zip file to Google Colab runtime you need to unzip the files to extract all the files inside it."
      ]
    },
    {
      "cell_type": "code",
      "execution_count": 3,
      "metadata": {
        "id": "JpKP8qUVuC2n",
        "colab": {
          "base_uri": "https://localhost:8080/"
        },
        "outputId": "10cd0bc0-d749-42d2-a1cb-8fa8b5cc0521"
      },
      "outputs": [
        {
          "output_type": "stream",
          "name": "stdout",
          "text": [
            "Archive:  /content/mainfolder.zip\n",
            "   creating: mainfolder/\n",
            "   creating: mainfolder/product_descriptions/\n",
            "  inflating: mainfolder/product_descriptions/description_AISJDKFJW93NJ.txt  \n",
            "  inflating: mainfolder/product_descriptions/description_DJKFIEI432FIE.txt  \n",
            "  inflating: mainfolder/product_descriptions/description_GGOENEBJ079499.txt  \n",
            "  inflating: mainfolder/product_descriptions/description_HJSKNWK429DJE.txt  \n",
            "  inflating: mainfolder/product_descriptions/description_JFKL3940NFKLJ.txt  \n",
            "  inflating: mainfolder/product_descriptions/description_LKDFJ49LSDJKL.txt  \n",
            "  inflating: mainfolder/product_descriptions/description_MWKDI3JFK39SL.txt  \n",
            "  inflating: mainfolder/product_descriptions/description_NEKFJOWE9FDIW.txt  \n",
            "  inflating: mainfolder/product_descriptions/description_OWEJL398FWJLK.txt  \n",
            "  inflating: mainfolder/product_descriptions/description_XPLFJW2490XJN.txt  \n",
            "   creating: mainfolder/product_details/\n",
            "  inflating: mainfolder/product_details/details_AISJDKFJW93NJ.json  \n",
            "  inflating: mainfolder/product_details/details_DJKFIEI432FIE.json  \n",
            "  inflating: mainfolder/product_details/details_GGOENEBJ079499.json  \n",
            "  inflating: mainfolder/product_details/details_HJSKNWK429DJE.json  \n",
            "  inflating: mainfolder/product_details/details_JFKL3940NFKLJ.json  \n",
            "  inflating: mainfolder/product_details/details_LKDFJ49LSDJKL.json  \n",
            "  inflating: mainfolder/product_details/details_MWKDI3JFK39SL.json  \n",
            "  inflating: mainfolder/product_details/details_NEKFJOWE9FDIW.json  \n",
            "  inflating: mainfolder/product_details/details_OWEJL398FWJLK.json  \n",
            "  inflating: mainfolder/product_details/details_XPLFJW2490XJN.json  \n",
            "  inflating: mainfolder/sales_data.csv  \n"
          ]
        }
      ],
      "source": [
        "# Use this cell to write your code for unzipping the data and storing it in Google Colab runtime\n",
        "# Note: If you are not using Google Colab, please skip this cell\n",
        "# Note: You can comment out this cell after running it once\n",
        "\n",
        "# Unzip your files and store them in Google Colab runtime\n",
        "!unzip /content/mainfolder.zip"
      ]
    },
    {
      "cell_type": "markdown",
      "metadata": {
        "id": "DiYKN_QJlRBE"
      },
      "source": [
        "Now define the *load_data()* function."
      ]
    },
    {
      "cell_type": "code",
      "execution_count": 4,
      "metadata": {
        "id": "lh8skyqy7Qb6"
      },
      "outputs": [],
      "source": [
        "def load_data(main_folder):\n",
        "    \"\"\"\n",
        "    Loads sales data from a CSV file, product details from JSON files,\n",
        "    and product descriptions from text files within a specified main folder.\n",
        "\n",
        "    Args:\n",
        "        main_folder (str): The path to the main folder containing the data files.\n",
        "\n",
        "    Returns:\n",
        "        tuple: A tuple containing three elements:\n",
        "            - product_details (dict): A dictionary where keys are SKUs and\n",
        "                                       values are dictionaries of product details.\n",
        "            - sales_data (pd.DataFrame): A pandas DataFrame containing sales data.\n",
        "            - product_descriptions (dict): A dictionary where keys are SKUs and\n",
        "                                          values are strings of product descriptions.\n",
        "    \"\"\"\n",
        "    sales_data_path = os.path.join(main_folder, 'sales_data.csv')\n",
        "    product_details_folder = os.path.join(main_folder, 'product_details')\n",
        "    product_descriptions_folder = os.path.join(main_folder, 'product_descriptions')\n",
        "\n",
        "    # Load sales data from CSV\n",
        "    sales_data = pd.read_csv(sales_data_path)\n",
        "\n",
        "    # Load product details from JSON files\n",
        "    product_details = {}\n",
        "    for filename in os.listdir(product_details_folder):\n",
        "        if filename.endswith('.json'):\n",
        "            sku = filename.replace('details_', '').replace('.json', '')\n",
        "            filepath = os.path.join(product_details_folder, filename)\n",
        "            with open(filepath, 'r') as f:\n",
        "                product_details[sku] = json.load(f)\n",
        "\n",
        "    # Load product descriptions from text files\n",
        "    product_descriptions = {}\n",
        "    for filename in os.listdir(product_descriptions_folder):\n",
        "        if filename.endswith('.txt'):\n",
        "            sku = filename.replace('description_', '').replace('.txt', '')\n",
        "            filepath = os.path.join(product_descriptions_folder, filename)\n",
        "            with open(filepath, 'r') as f:\n",
        "                product_descriptions[sku] = f.read()\n",
        "\n",
        "    return product_details, sales_data, product_descriptions"
      ]
    },
    {
      "cell_type": "markdown",
      "metadata": {
        "id": "bRjwNJj67LP_"
      },
      "source": [
        "Load your data here"
      ]
    },
    {
      "cell_type": "code",
      "execution_count": 5,
      "metadata": {
        "id": "mkeH5Ba17Qmv"
      },
      "outputs": [],
      "source": [
        "# Use this cell to load the files\n",
        "main_folder_address = '/content/mainfolder'\n",
        "product_details, sales_data, product_descriptions = load_data(main_folder_address)"
      ]
    },
    {
      "cell_type": "markdown",
      "metadata": {
        "id": "-s3el3T2A41B"
      },
      "source": [
        "## **2.** Update data  <font color = red>[25 marks]</font>\n",
        "In this stage, you will define a function `update()` to add sales data, product details, and product descriptions for a new product or update an existing product. If the product does not exist, the function will default to creating a new product. If the product exists, the function will instead update that product. You will also define some sub-functions to complete smaller tasks."
      ]
    },
    {
      "cell_type": "markdown",
      "metadata": {
        "id": "KR9w5MtF2iuy"
      },
      "source": [
        "### **2.1** Update sales data  <font color = red>[5 marks]</font>"
      ]
    },
    {
      "cell_type": "markdown",
      "metadata": {
        "id": "3sv3srpNP0by"
      },
      "source": [
        "### Description\n",
        "In this task, you will write a function to add sales data for a new product or update sales data for an existing product given the SKU and the quantities that need to be added or updated."
      ]
    },
    {
      "cell_type": "code",
      "execution_count": 6,
      "metadata": {
        "id": "RdPeCXd22MJ5"
      },
      "outputs": [],
      "source": [
        "def update_sales_data(sales_data, sku, quantities):\n",
        "    \"\"\"\n",
        "    Adds or updates sales data for a product in the sales_data DataFrame.\n",
        "\n",
        "    Args:\n",
        "        sales_data (pd.DataFrame): The DataFrame containing sales data.\n",
        "        sku (str): The SKU of the product to add or update.\n",
        "        quantities (list or pd.Series): A list or Series of quantities for each day.\n",
        "\n",
        "    Returns:\n",
        "        pd.DataFrame: The updated sales_data DataFrame.\n",
        "    \"\"\"\n",
        "    if sku in sales_data['Product_SKU'].values:\n",
        "        # Update existing product\n",
        "        sales_data.loc[sales_data['Product_SKU'] == sku, sales_data.columns[1:]] = quantities\n",
        "    else:\n",
        "        # Add new product\n",
        "        new_row = {'Product_SKU': sku}\n",
        "        for i, qty in enumerate(quantities):\n",
        "            new_row[f'Day{i+1}'] = qty\n",
        "        sales_data = pd.concat([sales_data, pd.DataFrame([new_row])], ignore_index=True)\n",
        "    return sales_data"
      ]
    },
    {
      "cell_type": "markdown",
      "metadata": {
        "id": "vOvcL_J5Cn51"
      },
      "source": [
        "Check your code here."
      ]
    },
    {
      "cell_type": "code",
      "execution_count": 8,
      "metadata": {
        "id": "Uzf-TuD5CqEm",
        "colab": {
          "base_uri": "https://localhost:8080/",
          "height": 363
        },
        "outputId": "520b59a7-3742-4e1f-8c65-dc1cd41b579a"
      },
      "outputs": [
        {
          "output_type": "execute_result",
          "data": {
            "text/plain": [
              "      Product_SKU  Day1  Day2  Day3  Day4  Day5  Day6  Day7  Day8  Day9  \\\n",
              "0   AISJDKFJW93NJ    10    12    15    18    20    22    25    28    26   \n",
              "1   DJKFIEI432FIE    22    22    22    22    22    22    22    22    22   \n",
              "2  GGOENEBJ079499    15    18    22    25    28    20    17    23    19   \n",
              "3   HJSKNWK429DJE    30    32    35    38    40    42    45    48    50   \n",
              "4   JFKL3940NFKLJ    18    20    22    25    28    30    32    35    38   \n",
              "5   LKDFJ49LSDJKL    25    28    30    32    35    38    42    40    37   \n",
              "6   MWKDI3JFK39SL    30    35    40    45    50    42    37    38    41   \n",
              "7   NEKFJOWE9FDIW    12    15    18    20    22    24    21    23    25   \n",
              "8   OWEJL398FWJLK    20    22    25    28    30    32    35    38    36   \n",
              "9   XPLFJW2490XJN     5     8     9    12    15    10    14    16    20   \n",
              "\n",
              "   Day10  Day11  Day12  Day13  Day14  \n",
              "0     30     32     29     27     24  \n",
              "1     22     22     22     22     22  \n",
              "2     21     24     27     18     20  \n",
              "3     52     55     53     49     47  \n",
              "4     36     33     29     26     24  \n",
              "5     34     36     31     29     27  \n",
              "6     36     33     39     40     44  \n",
              "7     28     30     27     26     29  \n",
              "8     33     29     26     24     27  \n",
              "9     18     22     25     19     21  "
            ],
            "text/html": [
              "\n",
              "  <div id=\"df-cdee998a-bef7-4d01-932b-4a765299628f\" class=\"colab-df-container\">\n",
              "    <div>\n",
              "<style scoped>\n",
              "    .dataframe tbody tr th:only-of-type {\n",
              "        vertical-align: middle;\n",
              "    }\n",
              "\n",
              "    .dataframe tbody tr th {\n",
              "        vertical-align: top;\n",
              "    }\n",
              "\n",
              "    .dataframe thead th {\n",
              "        text-align: right;\n",
              "    }\n",
              "</style>\n",
              "<table border=\"1\" class=\"dataframe\">\n",
              "  <thead>\n",
              "    <tr style=\"text-align: right;\">\n",
              "      <th></th>\n",
              "      <th>Product_SKU</th>\n",
              "      <th>Day1</th>\n",
              "      <th>Day2</th>\n",
              "      <th>Day3</th>\n",
              "      <th>Day4</th>\n",
              "      <th>Day5</th>\n",
              "      <th>Day6</th>\n",
              "      <th>Day7</th>\n",
              "      <th>Day8</th>\n",
              "      <th>Day9</th>\n",
              "      <th>Day10</th>\n",
              "      <th>Day11</th>\n",
              "      <th>Day12</th>\n",
              "      <th>Day13</th>\n",
              "      <th>Day14</th>\n",
              "    </tr>\n",
              "  </thead>\n",
              "  <tbody>\n",
              "    <tr>\n",
              "      <th>0</th>\n",
              "      <td>AISJDKFJW93NJ</td>\n",
              "      <td>10</td>\n",
              "      <td>12</td>\n",
              "      <td>15</td>\n",
              "      <td>18</td>\n",
              "      <td>20</td>\n",
              "      <td>22</td>\n",
              "      <td>25</td>\n",
              "      <td>28</td>\n",
              "      <td>26</td>\n",
              "      <td>30</td>\n",
              "      <td>32</td>\n",
              "      <td>29</td>\n",
              "      <td>27</td>\n",
              "      <td>24</td>\n",
              "    </tr>\n",
              "    <tr>\n",
              "      <th>1</th>\n",
              "      <td>DJKFIEI432FIE</td>\n",
              "      <td>22</td>\n",
              "      <td>22</td>\n",
              "      <td>22</td>\n",
              "      <td>22</td>\n",
              "      <td>22</td>\n",
              "      <td>22</td>\n",
              "      <td>22</td>\n",
              "      <td>22</td>\n",
              "      <td>22</td>\n",
              "      <td>22</td>\n",
              "      <td>22</td>\n",
              "      <td>22</td>\n",
              "      <td>22</td>\n",
              "      <td>22</td>\n",
              "    </tr>\n",
              "    <tr>\n",
              "      <th>2</th>\n",
              "      <td>GGOENEBJ079499</td>\n",
              "      <td>15</td>\n",
              "      <td>18</td>\n",
              "      <td>22</td>\n",
              "      <td>25</td>\n",
              "      <td>28</td>\n",
              "      <td>20</td>\n",
              "      <td>17</td>\n",
              "      <td>23</td>\n",
              "      <td>19</td>\n",
              "      <td>21</td>\n",
              "      <td>24</td>\n",
              "      <td>27</td>\n",
              "      <td>18</td>\n",
              "      <td>20</td>\n",
              "    </tr>\n",
              "    <tr>\n",
              "      <th>3</th>\n",
              "      <td>HJSKNWK429DJE</td>\n",
              "      <td>30</td>\n",
              "      <td>32</td>\n",
              "      <td>35</td>\n",
              "      <td>38</td>\n",
              "      <td>40</td>\n",
              "      <td>42</td>\n",
              "      <td>45</td>\n",
              "      <td>48</td>\n",
              "      <td>50</td>\n",
              "      <td>52</td>\n",
              "      <td>55</td>\n",
              "      <td>53</td>\n",
              "      <td>49</td>\n",
              "      <td>47</td>\n",
              "    </tr>\n",
              "    <tr>\n",
              "      <th>4</th>\n",
              "      <td>JFKL3940NFKLJ</td>\n",
              "      <td>18</td>\n",
              "      <td>20</td>\n",
              "      <td>22</td>\n",
              "      <td>25</td>\n",
              "      <td>28</td>\n",
              "      <td>30</td>\n",
              "      <td>32</td>\n",
              "      <td>35</td>\n",
              "      <td>38</td>\n",
              "      <td>36</td>\n",
              "      <td>33</td>\n",
              "      <td>29</td>\n",
              "      <td>26</td>\n",
              "      <td>24</td>\n",
              "    </tr>\n",
              "    <tr>\n",
              "      <th>5</th>\n",
              "      <td>LKDFJ49LSDJKL</td>\n",
              "      <td>25</td>\n",
              "      <td>28</td>\n",
              "      <td>30</td>\n",
              "      <td>32</td>\n",
              "      <td>35</td>\n",
              "      <td>38</td>\n",
              "      <td>42</td>\n",
              "      <td>40</td>\n",
              "      <td>37</td>\n",
              "      <td>34</td>\n",
              "      <td>36</td>\n",
              "      <td>31</td>\n",
              "      <td>29</td>\n",
              "      <td>27</td>\n",
              "    </tr>\n",
              "    <tr>\n",
              "      <th>6</th>\n",
              "      <td>MWKDI3JFK39SL</td>\n",
              "      <td>30</td>\n",
              "      <td>35</td>\n",
              "      <td>40</td>\n",
              "      <td>45</td>\n",
              "      <td>50</td>\n",
              "      <td>42</td>\n",
              "      <td>37</td>\n",
              "      <td>38</td>\n",
              "      <td>41</td>\n",
              "      <td>36</td>\n",
              "      <td>33</td>\n",
              "      <td>39</td>\n",
              "      <td>40</td>\n",
              "      <td>44</td>\n",
              "    </tr>\n",
              "    <tr>\n",
              "      <th>7</th>\n",
              "      <td>NEKFJOWE9FDIW</td>\n",
              "      <td>12</td>\n",
              "      <td>15</td>\n",
              "      <td>18</td>\n",
              "      <td>20</td>\n",
              "      <td>22</td>\n",
              "      <td>24</td>\n",
              "      <td>21</td>\n",
              "      <td>23</td>\n",
              "      <td>25</td>\n",
              "      <td>28</td>\n",
              "      <td>30</td>\n",
              "      <td>27</td>\n",
              "      <td>26</td>\n",
              "      <td>29</td>\n",
              "    </tr>\n",
              "    <tr>\n",
              "      <th>8</th>\n",
              "      <td>OWEJL398FWJLK</td>\n",
              "      <td>20</td>\n",
              "      <td>22</td>\n",
              "      <td>25</td>\n",
              "      <td>28</td>\n",
              "      <td>30</td>\n",
              "      <td>32</td>\n",
              "      <td>35</td>\n",
              "      <td>38</td>\n",
              "      <td>36</td>\n",
              "      <td>33</td>\n",
              "      <td>29</td>\n",
              "      <td>26</td>\n",
              "      <td>24</td>\n",
              "      <td>27</td>\n",
              "    </tr>\n",
              "    <tr>\n",
              "      <th>9</th>\n",
              "      <td>XPLFJW2490XJN</td>\n",
              "      <td>5</td>\n",
              "      <td>8</td>\n",
              "      <td>9</td>\n",
              "      <td>12</td>\n",
              "      <td>15</td>\n",
              "      <td>10</td>\n",
              "      <td>14</td>\n",
              "      <td>16</td>\n",
              "      <td>20</td>\n",
              "      <td>18</td>\n",
              "      <td>22</td>\n",
              "      <td>25</td>\n",
              "      <td>19</td>\n",
              "      <td>21</td>\n",
              "    </tr>\n",
              "  </tbody>\n",
              "</table>\n",
              "</div>\n",
              "    <div class=\"colab-df-buttons\">\n",
              "\n",
              "  <div class=\"colab-df-container\">\n",
              "    <button class=\"colab-df-convert\" onclick=\"convertToInteractive('df-cdee998a-bef7-4d01-932b-4a765299628f')\"\n",
              "            title=\"Convert this dataframe to an interactive table.\"\n",
              "            style=\"display:none;\">\n",
              "\n",
              "  <svg xmlns=\"http://www.w3.org/2000/svg\" height=\"24px\" viewBox=\"0 -960 960 960\">\n",
              "    <path d=\"M120-120v-720h720v720H120Zm60-500h600v-160H180v160Zm220 220h160v-160H400v160Zm0 220h160v-160H400v160ZM180-400h160v-160H180v160Zm440 0h160v-160H620v160ZM180-180h160v-160H180v160Zm440 0h160v-160H620v160Z\"/>\n",
              "  </svg>\n",
              "    </button>\n",
              "\n",
              "  <style>\n",
              "    .colab-df-container {\n",
              "      display:flex;\n",
              "      gap: 12px;\n",
              "    }\n",
              "\n",
              "    .colab-df-convert {\n",
              "      background-color: #E8F0FE;\n",
              "      border: none;\n",
              "      border-radius: 50%;\n",
              "      cursor: pointer;\n",
              "      display: none;\n",
              "      fill: #1967D2;\n",
              "      height: 32px;\n",
              "      padding: 0 0 0 0;\n",
              "      width: 32px;\n",
              "    }\n",
              "\n",
              "    .colab-df-convert:hover {\n",
              "      background-color: #E2EBFA;\n",
              "      box-shadow: 0px 1px 2px rgba(60, 64, 67, 0.3), 0px 1px 3px 1px rgba(60, 64, 67, 0.15);\n",
              "      fill: #174EA6;\n",
              "    }\n",
              "\n",
              "    .colab-df-buttons div {\n",
              "      margin-bottom: 4px;\n",
              "    }\n",
              "\n",
              "    [theme=dark] .colab-df-convert {\n",
              "      background-color: #3B4455;\n",
              "      fill: #D2E3FC;\n",
              "    }\n",
              "\n",
              "    [theme=dark] .colab-df-convert:hover {\n",
              "      background-color: #434B5C;\n",
              "      box-shadow: 0px 1px 3px 1px rgba(0, 0, 0, 0.15);\n",
              "      filter: drop-shadow(0px 1px 2px rgba(0, 0, 0, 0.3));\n",
              "      fill: #FFFFFF;\n",
              "    }\n",
              "  </style>\n",
              "\n",
              "    <script>\n",
              "      const buttonEl =\n",
              "        document.querySelector('#df-cdee998a-bef7-4d01-932b-4a765299628f button.colab-df-convert');\n",
              "      buttonEl.style.display =\n",
              "        google.colab.kernel.accessAllowed ? 'block' : 'none';\n",
              "\n",
              "      async function convertToInteractive(key) {\n",
              "        const element = document.querySelector('#df-cdee998a-bef7-4d01-932b-4a765299628f');\n",
              "        const dataTable =\n",
              "          await google.colab.kernel.invokeFunction('convertToInteractive',\n",
              "                                                    [key], {});\n",
              "        if (!dataTable) return;\n",
              "\n",
              "        const docLinkHtml = 'Like what you see? Visit the ' +\n",
              "          '<a target=\"_blank\" href=https://colab.research.google.com/notebooks/data_table.ipynb>data table notebook</a>'\n",
              "          + ' to learn more about interactive tables.';\n",
              "        element.innerHTML = '';\n",
              "        dataTable['output_type'] = 'display_data';\n",
              "        await google.colab.output.renderOutput(dataTable, element);\n",
              "        const docLink = document.createElement('div');\n",
              "        docLink.innerHTML = docLinkHtml;\n",
              "        element.appendChild(docLink);\n",
              "      }\n",
              "    </script>\n",
              "  </div>\n",
              "\n",
              "\n",
              "    <div id=\"df-e5751d56-2258-4338-988a-fff4fc845ac6\">\n",
              "      <button class=\"colab-df-quickchart\" onclick=\"quickchart('df-e5751d56-2258-4338-988a-fff4fc845ac6')\"\n",
              "                title=\"Suggest charts\"\n",
              "                style=\"display:none;\">\n",
              "\n",
              "<svg xmlns=\"http://www.w3.org/2000/svg\" height=\"24px\"viewBox=\"0 0 24 24\"\n",
              "     width=\"24px\">\n",
              "    <g>\n",
              "        <path d=\"M19 3H5c-1.1 0-2 .9-2 2v14c0 1.1.9 2 2 2h14c1.1 0 2-.9 2-2V5c0-1.1-.9-2-2-2zM9 17H7v-7h2v7zm4 0h-2V7h2v10zm4 0h-2v-4h2v4z\"/>\n",
              "    </g>\n",
              "</svg>\n",
              "      </button>\n",
              "\n",
              "<style>\n",
              "  .colab-df-quickchart {\n",
              "      --bg-color: #E8F0FE;\n",
              "      --fill-color: #1967D2;\n",
              "      --hover-bg-color: #E2EBFA;\n",
              "      --hover-fill-color: #174EA6;\n",
              "      --disabled-fill-color: #AAA;\n",
              "      --disabled-bg-color: #DDD;\n",
              "  }\n",
              "\n",
              "  [theme=dark] .colab-df-quickchart {\n",
              "      --bg-color: #3B4455;\n",
              "      --fill-color: #D2E3FC;\n",
              "      --hover-bg-color: #434B5C;\n",
              "      --hover-fill-color: #FFFFFF;\n",
              "      --disabled-bg-color: #3B4455;\n",
              "      --disabled-fill-color: #666;\n",
              "  }\n",
              "\n",
              "  .colab-df-quickchart {\n",
              "    background-color: var(--bg-color);\n",
              "    border: none;\n",
              "    border-radius: 50%;\n",
              "    cursor: pointer;\n",
              "    display: none;\n",
              "    fill: var(--fill-color);\n",
              "    height: 32px;\n",
              "    padding: 0;\n",
              "    width: 32px;\n",
              "  }\n",
              "\n",
              "  .colab-df-quickchart:hover {\n",
              "    background-color: var(--hover-bg-color);\n",
              "    box-shadow: 0 1px 2px rgba(60, 64, 67, 0.3), 0 1px 3px 1px rgba(60, 64, 67, 0.15);\n",
              "    fill: var(--button-hover-fill-color);\n",
              "  }\n",
              "\n",
              "  .colab-df-quickchart-complete:disabled,\n",
              "  .colab-df-quickchart-complete:disabled:hover {\n",
              "    background-color: var(--disabled-bg-color);\n",
              "    fill: var(--disabled-fill-color);\n",
              "    box-shadow: none;\n",
              "  }\n",
              "\n",
              "  .colab-df-spinner {\n",
              "    border: 2px solid var(--fill-color);\n",
              "    border-color: transparent;\n",
              "    border-bottom-color: var(--fill-color);\n",
              "    animation:\n",
              "      spin 1s steps(1) infinite;\n",
              "  }\n",
              "\n",
              "  @keyframes spin {\n",
              "    0% {\n",
              "      border-color: transparent;\n",
              "      border-bottom-color: var(--fill-color);\n",
              "      border-left-color: var(--fill-color);\n",
              "    }\n",
              "    20% {\n",
              "      border-color: transparent;\n",
              "      border-left-color: var(--fill-color);\n",
              "      border-top-color: var(--fill-color);\n",
              "    }\n",
              "    30% {\n",
              "      border-color: transparent;\n",
              "      border-left-color: var(--fill-color);\n",
              "      border-top-color: var(--fill-color);\n",
              "      border-right-color: var(--fill-color);\n",
              "    }\n",
              "    40% {\n",
              "      border-color: transparent;\n",
              "      border-right-color: var(--fill-color);\n",
              "      border-top-color: var(--fill-color);\n",
              "    }\n",
              "    60% {\n",
              "      border-color: transparent;\n",
              "      border-right-color: var(--fill-color);\n",
              "    }\n",
              "    80% {\n",
              "      border-color: transparent;\n",
              "      border-right-color: var(--fill-color);\n",
              "      border-bottom-color: var(--fill-color);\n",
              "    }\n",
              "    90% {\n",
              "      border-color: transparent;\n",
              "      border-bottom-color: var(--fill-color);\n",
              "    }\n",
              "  }\n",
              "</style>\n",
              "\n",
              "      <script>\n",
              "        async function quickchart(key) {\n",
              "          const quickchartButtonEl =\n",
              "            document.querySelector('#' + key + ' button');\n",
              "          quickchartButtonEl.disabled = true;  // To prevent multiple clicks.\n",
              "          quickchartButtonEl.classList.add('colab-df-spinner');\n",
              "          try {\n",
              "            const charts = await google.colab.kernel.invokeFunction(\n",
              "                'suggestCharts', [key], {});\n",
              "          } catch (error) {\n",
              "            console.error('Error during call to suggestCharts:', error);\n",
              "          }\n",
              "          quickchartButtonEl.classList.remove('colab-df-spinner');\n",
              "          quickchartButtonEl.classList.add('colab-df-quickchart-complete');\n",
              "        }\n",
              "        (() => {\n",
              "          let quickchartButtonEl =\n",
              "            document.querySelector('#df-e5751d56-2258-4338-988a-fff4fc845ac6 button');\n",
              "          quickchartButtonEl.style.display =\n",
              "            google.colab.kernel.accessAllowed ? 'block' : 'none';\n",
              "        })();\n",
              "      </script>\n",
              "    </div>\n",
              "\n",
              "  <div id=\"id_577ff548-c091-45c0-9be1-e9cabe688ace\">\n",
              "    <style>\n",
              "      .colab-df-generate {\n",
              "        background-color: #E8F0FE;\n",
              "        border: none;\n",
              "        border-radius: 50%;\n",
              "        cursor: pointer;\n",
              "        display: none;\n",
              "        fill: #1967D2;\n",
              "        height: 32px;\n",
              "        padding: 0 0 0 0;\n",
              "        width: 32px;\n",
              "      }\n",
              "\n",
              "      .colab-df-generate:hover {\n",
              "        background-color: #E2EBFA;\n",
              "        box-shadow: 0px 1px 2px rgba(60, 64, 67, 0.3), 0px 1px 3px 1px rgba(60, 64, 67, 0.15);\n",
              "        fill: #174EA6;\n",
              "      }\n",
              "\n",
              "      [theme=dark] .colab-df-generate {\n",
              "        background-color: #3B4455;\n",
              "        fill: #D2E3FC;\n",
              "      }\n",
              "\n",
              "      [theme=dark] .colab-df-generate:hover {\n",
              "        background-color: #434B5C;\n",
              "        box-shadow: 0px 1px 3px 1px rgba(0, 0, 0, 0.15);\n",
              "        filter: drop-shadow(0px 1px 2px rgba(0, 0, 0, 0.3));\n",
              "        fill: #FFFFFF;\n",
              "      }\n",
              "    </style>\n",
              "    <button class=\"colab-df-generate\" onclick=\"generateWithVariable('sales_data')\"\n",
              "            title=\"Generate code using this dataframe.\"\n",
              "            style=\"display:none;\">\n",
              "\n",
              "  <svg xmlns=\"http://www.w3.org/2000/svg\" height=\"24px\"viewBox=\"0 0 24 24\"\n",
              "       width=\"24px\">\n",
              "    <path d=\"M7,19H8.4L18.45,9,17,7.55,7,17.6ZM5,21V16.75L18.45,3.32a2,2,0,0,1,2.83,0l1.4,1.43a1.91,1.91,0,0,1,.58,1.4,1.91,1.91,0,0,1-.58,1.4L9.25,21ZM18.45,9,17,7.55Zm-12,3A5.31,5.31,0,0,0,4.9,8.1,5.31,5.31,0,0,0,1,6.5,5.31,5.31,0,0,0,4.9,4.9,5.31,5.31,0,0,0,6.5,1,5.31,5.31,0,0,0,8.1,4.9,5.31,5.31,0,0,0,12,6.5,5.46,5.46,0,0,0,6.5,12Z\"/>\n",
              "  </svg>\n",
              "    </button>\n",
              "    <script>\n",
              "      (() => {\n",
              "      const buttonEl =\n",
              "        document.querySelector('#id_577ff548-c091-45c0-9be1-e9cabe688ace button.colab-df-generate');\n",
              "      buttonEl.style.display =\n",
              "        google.colab.kernel.accessAllowed ? 'block' : 'none';\n",
              "\n",
              "      buttonEl.onclick = () => {\n",
              "        google.colab.notebook.generateWithVariable('sales_data');\n",
              "      }\n",
              "      })();\n",
              "    </script>\n",
              "  </div>\n",
              "\n",
              "    </div>\n",
              "  </div>\n"
            ],
            "application/vnd.google.colaboratory.intrinsic+json": {
              "type": "dataframe",
              "variable_name": "sales_data",
              "summary": "{\n  \"name\": \"sales_data\",\n  \"rows\": 10,\n  \"fields\": [\n    {\n      \"column\": \"Product_SKU\",\n      \"properties\": {\n        \"dtype\": \"string\",\n        \"num_unique_values\": 10,\n        \"samples\": [\n          \"OWEJL398FWJLK\",\n          \"DJKFIEI432FIE\",\n          \"LKDFJ49LSDJKL\"\n        ],\n        \"semantic_type\": \"\",\n        \"description\": \"\"\n      }\n    },\n    {\n      \"column\": \"Day1\",\n      \"properties\": {\n        \"dtype\": \"number\",\n        \"std\": 8,\n        \"min\": 5,\n        \"max\": 30,\n        \"num_unique_values\": 9,\n        \"samples\": [\n          20,\n          22,\n          25\n        ],\n        \"semantic_type\": \"\",\n        \"description\": \"\"\n      }\n    },\n    {\n      \"column\": \"Day2\",\n      \"properties\": {\n        \"dtype\": \"number\",\n        \"std\": 8,\n        \"min\": 8,\n        \"max\": 35,\n        \"num_unique_values\": 9,\n        \"samples\": [\n          15,\n          22,\n          28\n        ],\n        \"semantic_type\": \"\",\n        \"description\": \"\"\n      }\n    },\n    {\n      \"column\": \"Day3\",\n      \"properties\": {\n        \"dtype\": \"number\",\n        \"std\": 9,\n        \"min\": 9,\n        \"max\": 40,\n        \"num_unique_values\": 8,\n        \"samples\": [\n          22,\n          18,\n          15\n        ],\n        \"semantic_type\": \"\",\n        \"description\": \"\"\n      }\n    },\n    {\n      \"column\": \"Day4\",\n      \"properties\": {\n        \"dtype\": \"number\",\n        \"std\": 9,\n        \"min\": 12,\n        \"max\": 45,\n        \"num_unique_values\": 9,\n        \"samples\": [\n          28,\n          22,\n          45\n        ],\n        \"semantic_type\": \"\",\n        \"description\": \"\"\n      }\n    },\n    {\n      \"column\": \"Day5\",\n      \"properties\": {\n        \"dtype\": \"number\",\n        \"std\": 10,\n        \"min\": 15,\n        \"max\": 50,\n        \"num_unique_values\": 8,\n        \"samples\": [\n          22,\n          50,\n          20\n        ],\n        \"semantic_type\": \"\",\n        \"description\": \"\"\n      }\n    },\n    {\n      \"column\": \"Day6\",\n      \"properties\": {\n        \"dtype\": \"number\",\n        \"std\": 10,\n        \"min\": 10,\n        \"max\": 42,\n        \"num_unique_values\": 8,\n        \"samples\": [\n          20,\n          24,\n          22\n        ],\n        \"semantic_type\": \"\",\n        \"description\": \"\"\n      }\n    },\n    {\n      \"column\": \"Day7\",\n      \"properties\": {\n        \"dtype\": \"number\",\n        \"std\": 10,\n        \"min\": 14,\n        \"max\": 45,\n        \"num_unique_values\": 10,\n        \"samples\": [\n          35,\n          22,\n          42\n        ],\n        \"semantic_type\": \"\",\n        \"description\": \"\"\n      }\n    },\n    {\n      \"column\": \"Day8\",\n      \"properties\": {\n        \"dtype\": \"number\",\n        \"std\": 10,\n        \"min\": 16,\n        \"max\": 48,\n        \"num_unique_values\": 8,\n        \"samples\": [\n          22,\n          40,\n          28\n        ],\n        \"semantic_type\": \"\",\n        \"description\": \"\"\n      }\n    },\n    {\n      \"column\": \"Day9\",\n      \"properties\": {\n        \"dtype\": \"number\",\n        \"std\": 10,\n        \"min\": 19,\n        \"max\": 50,\n        \"num_unique_values\": 10,\n        \"samples\": [\n          36,\n          22,\n          37\n        ],\n        \"semantic_type\": \"\",\n        \"description\": \"\"\n      }\n    },\n    {\n      \"column\": \"Day10\",\n      \"properties\": {\n        \"dtype\": \"number\",\n        \"std\": 9,\n        \"min\": 18,\n        \"max\": 52,\n        \"num_unique_values\": 9,\n        \"samples\": [\n          33,\n          22,\n          34\n        ],\n        \"semantic_type\": \"\",\n        \"description\": \"\"\n      }\n    },\n    {\n      \"column\": \"Day11\",\n      \"properties\": {\n        \"dtype\": \"number\",\n        \"std\": 9,\n        \"min\": 22,\n        \"max\": 55,\n        \"num_unique_values\": 8,\n        \"samples\": [\n          22,\n          36,\n          32\n        ],\n        \"semantic_type\": \"\",\n        \"description\": \"\"\n      }\n    },\n    {\n      \"column\": \"Day12\",\n      \"properties\": {\n        \"dtype\": \"number\",\n        \"std\": 9,\n        \"min\": 22,\n        \"max\": 53,\n        \"num_unique_values\": 8,\n        \"samples\": [\n          22,\n          39,\n          29\n        ],\n        \"semantic_type\": \"\",\n        \"description\": \"\"\n      }\n    },\n    {\n      \"column\": \"Day13\",\n      \"properties\": {\n        \"dtype\": \"number\",\n        \"std\": 9,\n        \"min\": 18,\n        \"max\": 49,\n        \"num_unique_values\": 9,\n        \"samples\": [\n          24,\n          22,\n          29\n        ],\n        \"semantic_type\": \"\",\n        \"description\": \"\"\n      }\n    },\n    {\n      \"column\": \"Day14\",\n      \"properties\": {\n        \"dtype\": \"number\",\n        \"std\": 9,\n        \"min\": 20,\n        \"max\": 47,\n        \"num_unique_values\": 8,\n        \"samples\": [\n          22,\n          44,\n          24\n        ],\n        \"semantic_type\": \"\",\n        \"description\": \"\"\n      }\n    }\n  ]\n}"
            }
          },
          "metadata": {},
          "execution_count": 8
        }
      ],
      "source": [
        "sales_data = update_sales_data(sales_data,\n",
        "                                'DJKFIEI432FIE',\n",
        "                                22)\n",
        "sales_data"
      ]
    },
    {
      "cell_type": "markdown",
      "metadata": {
        "id": "276dzYC32PIS"
      },
      "source": [
        "### **2.2** Update product details  <font color = red>[5 marks]</font>"
      ]
    },
    {
      "cell_type": "markdown",
      "metadata": {
        "id": "-I8sKosLT5sl"
      },
      "source": [
        "### Description\n",
        "In this task, you will write a function to add product details for a new product or update product details for an existing product using the product SKU."
      ]
    },
    {
      "cell_type": "code",
      "execution_count": 9,
      "metadata": {
        "id": "uiOO_eNr2PkA"
      },
      "outputs": [],
      "source": [
        "def update_product_details(product_details, sku, product_info):\n",
        "    \"\"\"\n",
        "    Adds or updates product details for a product in the product_details dictionary.\n",
        "\n",
        "    Args:\n",
        "        product_details (dict): The dictionary containing product details.\n",
        "        sku (str): The SKU of the product to add or update.\n",
        "        product_info (dict): A dictionary containing the product details.\n",
        "\n",
        "    Returns:\n",
        "        dict: The updated product_details dictionary.\n",
        "    \"\"\"\n",
        "    product_details[sku] = product_info\n",
        "    return product_details"
      ]
    },
    {
      "cell_type": "markdown",
      "metadata": {
        "id": "cpYk9yK1Cq5H"
      },
      "source": [
        "Check your code here."
      ]
    },
    {
      "cell_type": "code",
      "execution_count": 10,
      "metadata": {
        "id": "6ljskEWSCrQq",
        "colab": {
          "base_uri": "https://localhost:8080/"
        },
        "outputId": "178c9cbf-428e-4d87-ed74-29ba982ef1a6"
      },
      "outputs": [
        {
          "output_type": "execute_result",
          "data": {
            "text/plain": [
              "{'MWKDI3JFK39SL': {'product_name': 'Fictional Novel',\n",
              "  'brand': 'BestBooks',\n",
              "  'model': None,\n",
              "  'specifications': 'Paperback, 300 pages',\n",
              "  'price': '$14.99',\n",
              "  'availability': 'In stock'},\n",
              " 'AISJDKFJW93NJ': {'product_name': 'Wall Art Print',\n",
              "  'brand': 'ArtCraft',\n",
              "  'model': 'NatureCanvas-1001',\n",
              "  'specifications': 'Canvas print, Ready to hang',\n",
              "  'price': '$49.99',\n",
              "  'availability': 'In stock'},\n",
              " 'GGOENEBJ079499': {'product_name': 'Smartphone',\n",
              "  'brand': 'XYZ Electronics',\n",
              "  'model': 'ABC-2000',\n",
              "  'specifications': '6.5-inch display, 128GB storage, 16MP camera',\n",
              "  'price': '$499.99',\n",
              "  'availability': 'In stock'},\n",
              " 'XPLFJW2490XJN': {'product_name': 'Robot Vacuum Cleaner',\n",
              "  'brand': 'CleanTech',\n",
              "  'model': 'AutoSweep-9000',\n",
              "  'specifications': 'Smart navigation, HEPA filter, 90 minutes runtime',\n",
              "  'price': '$249.99',\n",
              "  'availability': 'In stock'},\n",
              " 'HJSKNWK429DJE': {'product_name': 'Wireless Earbuds',\n",
              "  'brand': 'SoundSync',\n",
              "  'model': 'TunePro-2022',\n",
              "  'specifications': 'Bluetooth 5.0, 20 hours battery life, Touch controls',\n",
              "  'price': '$89.99',\n",
              "  'availability': 'In stock'},\n",
              " 'OWEJL398FWJLK': {'product_name': 'Yoga Mat',\n",
              "  'brand': 'ZenFitness',\n",
              "  'model': 'EcoMat-500',\n",
              "  'specifications': 'Non-slip, 6mm thickness, Eco-friendly material',\n",
              "  'price': '$19.99',\n",
              "  'availability': 'In stock'},\n",
              " 'LKDFJ49LSDJKL': {'product_name': 'Anti-Aging Face Cream',\n",
              "  'brand': 'GlowBeauty',\n",
              "  'model': 'AgeDefy-300',\n",
              "  'specifications': 'Natural ingredients, Hydrating formula',\n",
              "  'price': '$39.99',\n",
              "  'availability': 'In stock'},\n",
              " 'NEKFJOWE9FDIW': {'product_name': 'Board Game',\n",
              "  'brand': 'FamilyFun',\n",
              "  'model': 'GameNight-2022',\n",
              "  'specifications': '2-6 players, Ages 8 and up',\n",
              "  'price': '$29.99',\n",
              "  'availability': 'In stock'},\n",
              " 'JFKL3940NFKLJ': {'product_name': 'Resistance Bands Set',\n",
              "  'brand': 'FitFlex',\n",
              "  'model': 'StrengthPro-300',\n",
              "  'specifications': '5 bands, Varying resistance levels, Portable',\n",
              "  'price': '$34.99',\n",
              "  'availability': 'In stock'},\n",
              " 'DJKFIEI432FIE': {'product_name': 'Nike Running Shoes',\n",
              "  'brand': 'Nike',\n",
              "  'model': 'Speed Ultra',\n",
              "  'specifications': 'Size 8, Lightweight design, Breathable material',\n",
              "  'price': '$99.99',\n",
              "  'availability': 'In stock'}}"
            ]
          },
          "metadata": {},
          "execution_count": 10
        }
      ],
      "source": [
        "product_details = update_product_details(product_details,\n",
        "                                          'DJKFIEI432FIE',\n",
        "                                          \t{\n",
        "    \"product_name\": \"Nike Running Shoes\",\n",
        "    \"brand\": \"Nike\",\n",
        "    \"model\": \"Speed Ultra\",\n",
        "    \"specifications\": \"Size 8, Lightweight design, Breathable material\",\n",
        "    \"price\": \"$99.99\",\n",
        "    \"availability\": \"In stock\"\n",
        "})\n",
        "product_details"
      ]
    },
    {
      "cell_type": "markdown",
      "metadata": {
        "id": "NbsIu0TT2R4H"
      },
      "source": [
        "### **2.3** Update product description  <font color = red>[5 marks]</font>"
      ]
    },
    {
      "cell_type": "markdown",
      "metadata": {
        "id": "eLsJVtWtT6Wn"
      },
      "source": [
        "### Description\n",
        "In this task, you will write a function to add a product description for the new product using its product SKU."
      ]
    },
    {
      "cell_type": "code",
      "execution_count": 12,
      "metadata": {
        "id": "gto9F0P82SIv"
      },
      "outputs": [],
      "source": [
        "def update_product_description(product_descriptions, sku, description):\n",
        "    product_descriptions[sku] = description\n",
        "    return product_descriptions"
      ]
    },
    {
      "cell_type": "markdown",
      "metadata": {
        "id": "pDn1TCSLCr_R"
      },
      "source": [
        "Check your code here."
      ]
    },
    {
      "cell_type": "code",
      "execution_count": 13,
      "metadata": {
        "id": "4rm960DECsUF",
        "colab": {
          "base_uri": "https://localhost:8080/"
        },
        "outputId": "b3c5eac2-651d-431d-c6cb-f010572a05bf"
      },
      "outputs": [
        {
          "output_type": "execute_result",
          "data": {
            "text/plain": [
              "{'AISJDKFJW93NJ': \"Transform your living space with ArtCraft's NatureCanvas-1001 Wall Art Print.\\nThis canvas print, ready to hang, brings the beauty of nature into your home.\\nWith dimensions of 16 x 20 inches and a 4.6/5 stars rating, it's a stunning addition to your decor, creating a focal point that captures attention and sparks conversation.\",\n",
              " 'DJKFIEI432FIE': 'Just Do It ..NIKE',\n",
              " 'OWEJL398FWJLK': \"Elevate your yoga practice with ZenFitness' EcoMat-500 Yoga Mat.\\nFeaturing a non-slip surface, 6mm thickness, and eco-friendly materials, this high-quality mat provides the perfect foundation for your workouts.\\nAvailable in Purple, Green, and Blue, it not only enhances your comfort but also adds a touch of serenity to your exercise routine.\",\n",
              " 'GGOENEBJ079499': 'Dive into the future with the XYZ Electronics Smartphone, model ABC-2000.\\nBoasting a 6.5-inch display, 128GB storage, and a 16MP camera, this powerful device redefines the smartphone experience.\\nWith a sleek design and available in Black, Silver, and Blue, it combines cutting-edge technology with style, ensuring you stay connected in the most sophisticated way possible.',\n",
              " 'MWKDI3JFK39SL': \"Immerse yourself in the world of storytelling with BestBooks' Fictional Novel.\\nThis paperback, spanning 300 pages, promises a captivating journey through the pages of an engaging narrative.\\nIdeal for avid readers seeking an escape, this novel, with a 4.6/5 stars rating, is a testament to its ability to weave a compelling tale that keeps you hooked until the last page.\",\n",
              " 'JFKL3940NFKLJ': \"Embrace versatility in your workouts with FitFlex's StrengthPro-300 Resistance Bands Set.\\nWith 5 bands offering varying resistance levels and portability, this set is your go-to for effective strength training.\\nAvailable in Red, Yellow, and Blue, it caters to different fitness levels and adds a dynamic dimension to your exercise routine.\",\n",
              " 'XPLFJW2490XJN': 'Introducing the CleanTech AutoSweep-9000 Robot Vacuum Cleaner – your smart companion for automated cleaning.\\nWith smart navigation, a HEPA filter, and a runtime of 90 minutes, this efficient device takes care of your cleaning needs.\\nAvailable in White and Silver, it blends seamlessly into your home, making cleanliness a hassle-free experience.',\n",
              " 'NEKFJOWE9FDIW': \"Unleash the fun with FamilyFun's GameNight-2022 Board Game.\\nDesigned for 2-6 players and suitable for ages 8 and up, this exciting game promises laughter and bonding moments for the entire family.\\nWith a 4.4/5 stars rating, it's a testament to its ability to turn any ordinary night into an extraordinary game night filled with friendly competition and shared joy.\",\n",
              " 'HJSKNWK429DJE': \"Immerse yourself in superior audio quality with SoundSync's TunePro-2022 Wireless Earbuds.\\nFeaturing Bluetooth 5.0, 20 hours of battery life, and touch controls, these earbuds deliver a seamless and immersive listening experience.\\nAvailable in Black and White, they combine style with functionality for music lovers on the go. \\nWith a 4.7/5 stars rating, they stand out as a top choice in the realm of wireless audio.\",\n",
              " 'LKDFJ49LSDJKL': \"Rediscover youthful radiance with GlowBeauty's AgeDefy-300 Anti-Aging Face Cream.\\nFormulated with natural ingredients and a hydrating formula, this skincare essential rejuvenates and nourishes your skin, leaving you with a vibrant and refreshed complexion.\\nWith a stellar 4.7/5 stars rating, it's a must-have for those embracing the journey to ageless beauty.\"}"
            ]
          },
          "metadata": {},
          "execution_count": 13
        }
      ],
      "source": [
        "product_descriptions = update_product_description(product_descriptions,\n",
        "                                                  'DJKFIEI432FIE',\n",
        "                                                  \"Just Do It ..NIKE\")\n",
        "product_descriptions"
      ]
    },
    {
      "cell_type": "markdown",
      "metadata": {
        "id": "R5N6bVo82VF3"
      },
      "source": [
        "### **2.4** Update function  <font color = red>[10 marks]</font>"
      ]
    },
    {
      "cell_type": "markdown",
      "metadata": {
        "id": "a8ACLR0kT65r"
      },
      "source": [
        "### Description\n",
        "In this task, you will write a function that combines the functionalities of adding sales data, product details, and product description for a new product SKU, or updating these for an existing product SKU."
      ]
    },
    {
      "cell_type": "code",
      "execution_count": 14,
      "metadata": {
        "id": "-nqyMs8IPhnR"
      },
      "outputs": [],
      "source": [
        "def update(product_details, sales_data, product_descriptions, sku, quantities=None, product_info=None, description=None):\n",
        "    \"\"\"\n",
        "    Adds or updates sales data, product details, and product descriptions for a product.\n",
        "\n",
        "    Args:\n",
        "        product_details (dict): The dictionary containing product details.\n",
        "        sales_data (pd.DataFrame): The DataFrame containing sales data.\n",
        "        product_descriptions (dict): The dictionary containing product descriptions.\n",
        "        sku (str): The SKU of the product to add or update.\n",
        "        quantities (list or pd.Series, optional): Quantities for sales data. Defaults to None.\n",
        "        product_info (dict, optional): Dictionary of product details. Defaults to None.\n",
        "        description (str, optional): Product description. Defaults to None.\n",
        "\n",
        "    Returns:\n",
        "        tuple: The updated product_details, sales_data, and product_descriptions.\n",
        "    \"\"\"\n",
        "    if quantities is not None:\n",
        "        sales_data = update_sales_data(sales_data, sku, quantities)\n",
        "    if product_info is not None:\n",
        "        product_details = update_product_details(product_details, sku, product_info)\n",
        "    if description is not None:\n",
        "        product_descriptions = update_product_description(product_descriptions, sku, description)\n",
        "\n",
        "    return product_details, sales_data, product_descriptions"
      ]
    },
    {
      "cell_type": "markdown",
      "metadata": {
        "id": "LEyahKVZCtpR"
      },
      "source": [
        "Check your code here."
      ]
    },
    {
      "cell_type": "code",
      "execution_count": 16,
      "metadata": {
        "id": "IxJZUWfX9Rgs"
      },
      "outputs": [],
      "source": [
        "product_details, sales_data, product_descriptions = update(product_details, sales_data, product_descriptions,\"DJKFIEI432FIE\")"
      ]
    },
    {
      "cell_type": "markdown",
      "metadata": {
        "id": "q8WDGtEcj_Xn"
      },
      "source": [
        "## **3.** Save data to disk  <font color = red>[10 marks]</font>\n",
        "\n",
        "In the this stage, learners are tasked with creating a `dump_data()` function which will allow the newly modified files to be saved in their corresponding file formats: CSV for sales data, JSON for product details, and plain text (.txt) for product descriptions.\n",
        "\n"
      ]
    },
    {
      "cell_type": "markdown",
      "metadata": {
        "id": "ccFlC9OGdejQ"
      },
      "source": [
        "### **3.1** Save data to disk  <font color = red>[10 marks]</font>"
      ]
    },
    {
      "cell_type": "markdown",
      "metadata": {
        "id": "UqDs8HZ7dYZx"
      },
      "source": [
        "### Description\n",
        "In this task, learners are tasked with implementing a Python function named `dump_data()` that automates the process of persisting sales data, product details, and product descriptions into structured files within a specified directory. The function should efficiently organize and dump each type of data into its corresponding file format: CSV for sales data, JSON for product details, and plain text for product descriptions. This exercise challenges learners to apply file I/O operations, directory management, and data serialization techniques in Python, ensuring they gain practical experience with data persistence, manipulation, and organization on the filesystem."
      ]
    },
    {
      "cell_type": "code",
      "execution_count": 17,
      "metadata": {
        "id": "PMuHRcMELNoq"
      },
      "outputs": [],
      "source": [
        "def dump_data(sales_data, product_details, product_descriptions, main_folder):\n",
        "    \"\"\"\n",
        "    Saves sales data, product details, and product descriptions to disk\n",
        "    in their respective file formats.\n",
        "\n",
        "    Args:\n",
        "        sales_data (pd.DataFrame): The DataFrame containing sales data.\n",
        "        product_details (dict): The dictionary containing product details.\n",
        "        product_descriptions (dict): The dictionary containing product descriptions.\n",
        "        main_folder (str): The path to the main folder to save the data.\n",
        "    \"\"\"\n",
        "    sales_data_path = os.path.join(main_folder, 'sales_data.csv')\n",
        "    product_details_folder = os.path.join(main_folder, 'product_details')\n",
        "    product_descriptions_folder = os.path.join(main_folder, 'product_descriptions')\n",
        "\n",
        "    # Save sales data to CSV\n",
        "    sales_data.to_csv(sales_data_path, index=False)\n",
        "\n",
        "    # Save product details to JSON files\n",
        "    os.makedirs(product_details_folder, exist_ok=True)\n",
        "    for sku, details in product_details.items():\n",
        "        filepath = os.path.join(product_details_folder, f'details_{sku}.json')\n",
        "        with open(filepath, 'w') as f:\n",
        "            json.dump(details, f, indent=4)\n",
        "\n",
        "    # Save product descriptions to text files\n",
        "    os.makedirs(product_descriptions_folder, exist_ok=True)\n",
        "    for sku, description in product_descriptions.items():\n",
        "        filepath = os.path.join(product_descriptions_folder, f'description_{sku}.txt')\n",
        "        with open(filepath, 'w') as f:\n",
        "            f.write(description)"
      ]
    },
    {
      "cell_type": "markdown",
      "metadata": {
        "id": "Q0IRwQvIDAaB"
      },
      "source": [
        "Check your function here."
      ]
    },
    {
      "cell_type": "code",
      "execution_count": 18,
      "metadata": {
        "id": "JvvgYdPUDBf6"
      },
      "outputs": [],
      "source": [
        "dump_data(sales_data, product_details, product_descriptions, main_folder_address)"
      ]
    },
    {
      "cell_type": "markdown",
      "metadata": {
        "id": "3cjHZPLcBt4t"
      },
      "source": [
        "You will notice that *mainfolder* now has new files in the product descriptions/details subfolders, as well as new rows in *sales_data.csv* corresponding to the products that you created in stage 2, and while checking your code."
      ]
    }
  ],
  "metadata": {
    "colab": {
      "provenance": [],
      "include_colab_link": true
    },
    "kernelspec": {
      "display_name": "Python 3 (ipykernel)",
      "language": "python",
      "name": "python3"
    },
    "language_info": {
      "codemirror_mode": {
        "name": "ipython",
        "version": 3
      },
      "file_extension": ".py",
      "mimetype": "text/x-python",
      "name": "python",
      "nbconvert_exporter": "python",
      "pygments_lexer": "ipython3",
      "version": "3.12.7"
    }
  },
  "nbformat": 4,
  "nbformat_minor": 0
}